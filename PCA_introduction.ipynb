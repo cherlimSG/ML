{
  "nbformat": 4,
  "nbformat_minor": 0,
  "metadata": {
    "colab": {
      "name": "PCA introduction.ipynb",
      "provenance": [],
      "authorship_tag": "ABX9TyPtZM5G0hlPZdzLzLLZAom7",
      "include_colab_link": true
    },
    "kernelspec": {
      "name": "python3",
      "display_name": "Python 3"
    },
    "language_info": {
      "name": "python"
    }
  },
  "cells": [
    {
      "cell_type": "markdown",
      "metadata": {
        "id": "view-in-github",
        "colab_type": "text"
      },
      "source": [
        "<a href=\"https://colab.research.google.com/github/cherlimSG/ML/blob/main/PCA_introduction.ipynb\" target=\"_parent\"><img src=\"https://colab.research.google.com/assets/colab-badge.svg\" alt=\"Open In Colab\"/></a>"
      ]
    },
    {
      "cell_type": "markdown",
      "metadata": {
        "id": "GyD8dpCkmleZ"
      },
      "source": [
        "# Introducing Principal Component Analysis\n",
        "Principal component analysis is a fast and flexible unsupervised method for dimensionality reduction in data, which we saw briefly in Introducing Scikit-Learn. Its behavior is easiest to visualize by looking at a two-dimensional dataset. Consider the following 200 points:"
      ]
    },
    {
      "cell_type": "code",
      "metadata": {
        "id": "3riorWIUlsKR"
      },
      "source": [
        "import numpy as np\n",
        "import matplotlib.pyplot as plt\n",
        "import seaborn as sns; sns.set()\n"
      ],
      "execution_count": null,
      "outputs": []
    },
    {
      "cell_type": "code",
      "metadata": {
        "id": "jt02WBJamEsg",
        "colab": {
          "base_uri": "https://localhost:8080/",
          "height": 268
        },
        "outputId": "38462d0f-bc0d-4e47-fb1f-ccdec5d48d48"
      },
      "source": [
        "rng = np.random.RandomState(1)\n",
        "X = np.dot(rng.rand(2, 2), rng.randn(2, 200)).T\n",
        "plt.scatter(X[:, 0], X[:, 1])\n",
        "plt.axis('equal');"
      ],
      "execution_count": null,
      "outputs": [
        {
          "output_type": "display_data",
          "data": {
            "image/png": "[encoded data removed]",
            "text/plain": [
              "<Figure size 432x288 with 1 Axes>"
            ]
          },
          "metadata": {
            "tags": [],
            "needs_background": "light"
          }
        }
      ]
    },
    {
      "cell_type": "markdown",
      "metadata": {
        "id": "juM-pF6Hmuuh"
      },
      "source": [
        "By eye, it is clear that there is a nearly linear relationship between the x and y variables. This is reminiscent of the linear regression data we explored in In Depth: Linear Regression, but the problem setting here is slightly different: rather than attempting to predict the y values from the x values, the unsupervised learning problem attempts to learn about the relationship between the x and y values.\n",
        "\n",
        "In principal component analysis, this relationship is quantified by finding a list of the principal axes in the data, and using those axes to describe the dataset. Using Scikit-Learn's PCA estimator, we can compute this as follows:"
      ]
    },
    {
      "cell_type": "code",
      "metadata": {
        "colab": {
          "base_uri": "https://localhost:8080/"
        },
        "id": "5niaGu9ioqm_",
        "outputId": "a8d5fd16-d0f9-4cb5-887f-24c8a762d77b"
      },
      "source": [
        "X[0:3, 0:2]"
      ],
      "execution_count": null,
      "outputs": [
        {
          "output_type": "execute_result",
          "data": {
            "text/plain": [
              "array([[-0.62530162, -0.17006366],\n",
              "       [ 0.96069503,  0.5909006 ],\n",
              "       [-0.59854339, -0.40259339]])"
            ]
          },
          "metadata": {
            "tags": []
          },
          "execution_count": 20
        }
      ]
    },
    {
      "cell_type": "code",
      "metadata": {
        "id": "Oczub8pEmUj2",
        "colab": {
          "base_uri": "https://localhost:8080/"
        },
        "outputId": "538966d9-86ba-436c-870c-799fc061945d"
      },
      "source": [
        "#Find the shape of X\n",
        "X.shape"
      ],
      "execution_count": null,
      "outputs": [
        {
          "output_type": "execute_result",
          "data": {
            "text/plain": [
              "(200, 2)"
            ]
          },
          "metadata": {
            "tags": []
          },
          "execution_count": 3
        }
      ]
    },
    {
      "cell_type": "markdown",
      "metadata": {
        "id": "mb4qkYkH3o5o"
      },
      "source": [
        "### Question: What is the shape of X?\n",
        "Ans: 200 x 2"
      ]
    },
    {
      "cell_type": "code",
      "metadata": {
        "id": "8MDJzreymJHG",
        "colab": {
          "base_uri": "https://localhost:8080/"
        },
        "outputId": "76a00b8f-4431-44e7-faa6-2e1de2fba843"
      },
      "source": [
        "from sklearn.decomposition import PCA\n",
        "pca = PCA(n_components=2)\n",
        "pca.fit(X)"
      ],
      "execution_count": null,
      "outputs": [
        {
          "output_type": "execute_result",
          "data": {
            "text/plain": [
              "PCA(copy=True, iterated_power='auto', n_components=2, random_state=None,\n",
              "    svd_solver='auto', tol=0.0, whiten=False)"
            ]
          },
          "metadata": {
            "tags": []
          },
          "execution_count": 12
        }
      ]
    },
    {
      "cell_type": "markdown",
      "metadata": {
        "id": "hnvEsVe0mzwz"
      },
      "source": [
        "The fit learns some quantities from the data, most importantly the \"components\" and \"explained variance\":"
      ]
    },
    {
      "cell_type": "code",
      "metadata": {
        "id": "p75ePRUQmNl1",
        "colab": {
          "base_uri": "https://localhost:8080/"
        },
        "outputId": "30e4ef93-20d3-4fc1-eed3-705b37394816"
      },
      "source": [
        "print(pca.components_)"
      ],
      "execution_count": null,
      "outputs": [
        {
          "output_type": "stream",
          "text": [
            "[[-0.94446029 -0.32862557]\n",
            " [-0.32862557  0.94446029]]\n"
          ],
          "name": "stdout"
        }
      ]
    },
    {
      "cell_type": "code",
      "metadata": {
        "colab": {
          "base_uri": "https://localhost:8080/"
        },
        "id": "hmHw-fQIezcG",
        "outputId": "1a7be7de-dcab-4eaf-e1d4-6ba76feb509d"
      },
      "source": [
        "pca.components_.shape"
      ],
      "execution_count": null,
      "outputs": [
        {
          "output_type": "execute_result",
          "data": {
            "text/plain": [
              "(2, 2)"
            ]
          },
          "metadata": {
            "tags": []
          },
          "execution_count": 14
        }
      ]
    },
    {
      "cell_type": "markdown",
      "metadata": {
        "id": "ujx8NPEK31Nv"
      },
      "source": [
        "### Question what is the dimension of the pca components matrix?\n",
        "Ans: 2 x 2\n",
        "\n",
        "### The dimension of the pca components matrix, say n is always n is equal to the square of the shape of X\n",
        "### Question: Is the above statement true?\n",
        "**Ans**: PCA components in sklearn has a shape of # of components (n_components) x number of features (K). If no value is specified for n_components in the sklearn model, n_components will take the minimum of (#samples, #features). For sample size greater than #features, this means the pca.components_ matrix will be a NxN or KxK since N=K, i.e. the number of components equals to the number of features. \n",
        "\n",
        "For example, for a dataset of 10 features, if we use the default setting of PCA, the pca.components_ matrix will be 10x10.\n",
        "\n",
        "This question asks if the pca.components_ matrix has a shape equal to the square of the shape of X (which has a dimension of #samples x K). **Hence, the answer is NO.**\n",
        "\n",
        " "
      ]
    },
    {
      "cell_type": "code",
      "metadata": {
        "id": "Eo4jKZxgmSJk",
        "colab": {
          "base_uri": "https://localhost:8080/"
        },
        "outputId": "1eac0bbf-2f0a-4ee7-d650-acc67d02ef38"
      },
      "source": [
        "print(pca.explained_variance_)"
      ],
      "execution_count": null,
      "outputs": [
        {
          "output_type": "stream",
          "text": [
            "[0.7625315 0.0184779]\n"
          ],
          "name": "stdout"
        }
      ]
    },
    {
      "cell_type": "markdown",
      "metadata": {
        "id": "IED-TQwC4n6E"
      },
      "source": [
        "### Is there a dominance explained variance?\n",
        "Ans: yes"
      ]
    },
    {
      "cell_type": "markdown",
      "metadata": {
        "id": "sCHMgfuTm29s"
      },
      "source": [
        "To see what these numbers mean, let's visualize them as vectors over the input data, using the \"components\" to define the direction of the vector, and the \"explained variance\" to define the squared-length of the vector:"
      ]
    },
    {
      "cell_type": "code",
      "metadata": {
        "id": "2lsvF8Yvm4F4",
        "colab": {
          "base_uri": "https://localhost:8080/",
          "height": 268
        },
        "outputId": "fefe78ae-4c22-4f81-f6f9-fa12a162e47e"
      },
      "source": [
        "def draw_vector(v0, v1, ax=None):\n",
        "    ax = ax or plt.gca()\n",
        "    arrowprops=dict(arrowstyle='->',\n",
        "                    linewidth=2,\n",
        "                    shrinkA=0, shrinkB=0)\n",
        "    ax.annotate('', v1, v0, arrowprops=arrowprops)\n",
        "\n",
        "# plot data\n",
        "plt.scatter(X[:, 0], X[:, 1], alpha=0.2)\n",
        "for length, vector in zip(pca.explained_variance_, pca.components_):\n",
        "    v = vector * 3 * np.sqrt(length)\n",
        "    draw_vector(pca.mean_, pca.mean_ + v)\n",
        "plt.axis('equal');"
      ],
      "execution_count": null,
      "outputs": [
        {
          "output_type": "display_data",
          "data": {
            "image/png": "[encoded data removed]",
            "text/plain": [
              "<Figure size 432x288 with 1 Axes>"
            ]
          },
          "metadata": {
            "tags": [],
            "needs_background": "light"
          }
        }
      ]
    },
    {
      "cell_type": "code",
      "metadata": {
        "id": "h847WlKMnM8Y"
      },
      "source": [
        "def draw_vector(v0, v1, ax=None):\n",
        "    ax = ax or plt.gca()\n",
        "    arrowprops=dict(arrowstyle='->',\n",
        "                    linewidth=2,\n",
        "                    shrinkA=0, shrinkB=0)\n",
        "    ax.annotate('', v1, v0, arrowprops=arrowprops)"
      ],
      "execution_count": null,
      "outputs": []
    },
    {
      "cell_type": "code",
      "metadata": {
        "id": "AcWrmDFGnOh3",
        "colab": {
          "base_uri": "https://localhost:8080/",
          "height": 494
        },
        "outputId": "49e9253b-299f-43cc-e66b-5bc967ac338d"
      },
      "source": [
        "rng = np.random.RandomState(1)\n",
        "X = np.dot(rng.rand(2, 2), rng.randn(2, 200)).T\n",
        "pca = PCA(n_components=2, whiten=True)\n",
        "pca.fit(X)\n",
        "\n",
        "fig, ax = plt.subplots(1, 2, figsize=(16, 6))\n",
        "fig.subplots_adjust(left=0.0625, right=0.95, wspace=0.1)\n",
        "\n",
        "# plot data\n",
        "ax[0].scatter(X[:, 0], X[:, 1], alpha=0.2)\n",
        "for length, vector in zip(pca.explained_variance_, pca.components_):\n",
        "    v = vector * 3 * np.sqrt(length)\n",
        "    draw_vector(pca.mean_, pca.mean_ + v, ax=ax[0])\n",
        "ax[0].axis('equal');\n",
        "ax[0].set(xlabel='x', ylabel='y', title='input')\n",
        "\n",
        "# plot principal components\n",
        "X_pca = pca.transform(X)\n",
        "ax[1].scatter(X_pca[:, 0], X_pca[:, 1], alpha=0.2)\n",
        "draw_vector([0, 0], [0, 3], ax=ax[1])\n",
        "draw_vector([0, 0], [3, 0], ax=ax[1])\n",
        "ax[1].axis('equal')\n",
        "ax[1].set(xlabel='component 1', ylabel='component 2',\n",
        "          title='principal components',\n",
        "          xlim=(-5, 5), ylim=(-3, 3.1))\n",
        "\n",
        "#fig.savefig('figures/05.09-PCA-rotation.png')"
      ],
      "execution_count": null,
      "outputs": [
        {
          "output_type": "execute_result",
          "data": {
            "text/plain": [
              "[(-3.0, 3.1),\n",
              " Text(0, 0.5, 'component 2'),\n",
              " (-5.0, 5.0),\n",
              " Text(0.5, 0, 'component 1'),\n",
              " Text(0.5, 1.0, 'principal components')]"
            ]
          },
          "metadata": {
            "tags": []
          },
          "execution_count": 11
        },
        {
          "output_type": "display_data",
          "data": {
            "image/png": "[encoded data removed]",
            "text/plain": [
              "<Figure size 1152x432 with 2 Axes>"
            ]
          },
          "metadata": {
            "tags": [],
            "needs_background": "light"
          }
        }
      ]
    },
    {
      "cell_type": "markdown",
      "metadata": {
        "id": "LLE0xX6bxkj9"
      },
      "source": [
        "The above graph (left handside) shows the importance of the vector (the longer the vector, the more important are the values projected on it). "
      ]
    },
    {
      "cell_type": "markdown",
      "metadata": {
        "id": "C9M4aqE15CIV"
      },
      "source": [
        "### Question: Do you think we can reduce the features of X from 2 to 1?\n",
        "Ans: yes"
      ]
    },
    {
      "cell_type": "markdown",
      "metadata": {
        "id": "5YYYovC2np2z"
      },
      "source": [
        "https://plotly.com/python/pca-visualization/"
      ]
    },
    {
      "cell_type": "code",
      "metadata": {
        "id": "U3--cs_ovipY"
      },
      "source": [
        "#Set pca n_component =1\n",
        "rng = np.random.RandomState(1)\n",
        "X = np.dot(rng.rand(2, 2), rng.randn(2, 200)).T\n",
        "pca = PCA(n_components=1, whiten=True)\n",
        "pca.fit(X)\n",
        "X_pca = pca.transform(X)\n"
      ],
      "execution_count": null,
      "outputs": []
    },
    {
      "cell_type": "code",
      "metadata": {
        "colab": {
          "base_uri": "https://localhost:8080/",
          "height": 268
        },
        "id": "Xvz0oZ73v91q",
        "outputId": "019a078b-bd51-4e0e-dc7e-a8b47dbb3707"
      },
      "source": [
        "X_inverse = pca.inverse_transform(X_pca)\n",
        "plt.scatter(X[:,0],X[:,1])\n",
        "plt.scatter(X_inverse[:, 0], X_inverse[:, 1], alpha=0.8, c='g')\n",
        "plt.axis('equal');"
      ],
      "execution_count": null,
      "outputs": [
        {
          "output_type": "display_data",
          "data": {
            "image/png": "[encoded data removed]",
            "text/plain": [
              "<Figure size 432x288 with 1 Axes>"
            ]
          },
          "metadata": {
            "tags": [],
            "needs_background": "light"
          }
        }
      ]
    },
    {
      "cell_type": "markdown",
      "metadata": {
        "id": "xeHIHj1NnkyH"
      },
      "source": [
        "# Experiment PCA on the wine dataset"
      ]
    },
    {
      "cell_type": "code",
      "metadata": {
        "id": "rSXZ2eZ_lu2D",
        "colab": {
          "base_uri": "https://localhost:8080/",
          "height": 240
        },
        "outputId": "840ff61b-ea02-481b-badb-0a6218b14ec2"
      },
      "source": [
        "import pandas as pd\n",
        "import numpy as np\n",
        "from sklearn.preprocessing import LabelEncoder\n",
        "\n",
        "url = 'https://raw.githubusercontent.com/cherlim/NP/main/wine.csv'\n",
        "df = pd.read_csv(url)\n",
        "df.head()"
      ],
      "execution_count": null,
      "outputs": [
        {
          "output_type": "execute_result",
          "data": {
            "text/html": [
              "<div>\n",
              "<style scoped>\n",
              "    .dataframe tbody tr th:only-of-type {\n",
              "        vertical-align: middle;\n",
              "    }\n",
              "\n",
              "    .dataframe tbody tr th {\n",
              "        vertical-align: top;\n",
              "    }\n",
              "\n",
              "    .dataframe thead th {\n",
              "        text-align: right;\n",
              "    }\n",
              "</style>\n",
              "<table border=\"1\" class=\"dataframe\">\n",
              "  <thead>\n",
              "    <tr style=\"text-align: right;\">\n",
              "      <th></th>\n",
              "      <th>Unnamed: 0</th>\n",
              "      <th>alcohol</th>\n",
              "      <th>malic_acid</th>\n",
              "      <th>ash</th>\n",
              "      <th>alcalinity_of_ash</th>\n",
              "      <th>magnesium</th>\n",
              "      <th>total_phenols</th>\n",
              "      <th>flavanoids</th>\n",
              "      <th>nonflavanoid_phenols</th>\n",
              "      <th>proanthocyanins</th>\n",
              "      <th>color_intensity</th>\n",
              "      <th>hue</th>\n",
              "      <th>od280/od315_of_diluted_wines</th>\n",
              "      <th>proline</th>\n",
              "      <th>Class</th>\n",
              "    </tr>\n",
              "  </thead>\n",
              "  <tbody>\n",
              "    <tr>\n",
              "      <th>0</th>\n",
              "      <td>0</td>\n",
              "      <td>14.23</td>\n",
              "      <td>1.71</td>\n",
              "      <td>2.43</td>\n",
              "      <td>15.6</td>\n",
              "      <td>127.0</td>\n",
              "      <td>2.80</td>\n",
              "      <td>3.06</td>\n",
              "      <td>0.28</td>\n",
              "      <td>2.29</td>\n",
              "      <td>5.64</td>\n",
              "      <td>1.04</td>\n",
              "      <td>3.92</td>\n",
              "      <td>1065.0</td>\n",
              "      <td>class_0</td>\n",
              "    </tr>\n",
              "    <tr>\n",
              "      <th>1</th>\n",
              "      <td>1</td>\n",
              "      <td>13.20</td>\n",
              "      <td>1.78</td>\n",
              "      <td>2.14</td>\n",
              "      <td>11.2</td>\n",
              "      <td>100.0</td>\n",
              "      <td>2.65</td>\n",
              "      <td>2.76</td>\n",
              "      <td>0.26</td>\n",
              "      <td>1.28</td>\n",
              "      <td>4.38</td>\n",
              "      <td>1.05</td>\n",
              "      <td>3.40</td>\n",
              "      <td>1050.0</td>\n",
              "      <td>class_0</td>\n",
              "    </tr>\n",
              "    <tr>\n",
              "      <th>2</th>\n",
              "      <td>2</td>\n",
              "      <td>13.16</td>\n",
              "      <td>2.36</td>\n",
              "      <td>2.67</td>\n",
              "      <td>18.6</td>\n",
              "      <td>101.0</td>\n",
              "      <td>2.80</td>\n",
              "      <td>3.24</td>\n",
              "      <td>0.30</td>\n",
              "      <td>2.81</td>\n",
              "      <td>5.68</td>\n",
              "      <td>1.03</td>\n",
              "      <td>3.17</td>\n",
              "      <td>1185.0</td>\n",
              "      <td>class_0</td>\n",
              "    </tr>\n",
              "    <tr>\n",
              "      <th>3</th>\n",
              "      <td>3</td>\n",
              "      <td>14.37</td>\n",
              "      <td>1.95</td>\n",
              "      <td>2.50</td>\n",
              "      <td>16.8</td>\n",
              "      <td>113.0</td>\n",
              "      <td>3.85</td>\n",
              "      <td>3.49</td>\n",
              "      <td>0.24</td>\n",
              "      <td>2.18</td>\n",
              "      <td>7.80</td>\n",
              "      <td>0.86</td>\n",
              "      <td>3.45</td>\n",
              "      <td>1480.0</td>\n",
              "      <td>class_0</td>\n",
              "    </tr>\n",
              "    <tr>\n",
              "      <th>4</th>\n",
              "      <td>4</td>\n",
              "      <td>13.24</td>\n",
              "      <td>2.59</td>\n",
              "      <td>2.87</td>\n",
              "      <td>21.0</td>\n",
              "      <td>118.0</td>\n",
              "      <td>2.80</td>\n",
              "      <td>2.69</td>\n",
              "      <td>0.39</td>\n",
              "      <td>1.82</td>\n",
              "      <td>4.32</td>\n",
              "      <td>1.04</td>\n",
              "      <td>2.93</td>\n",
              "      <td>735.0</td>\n",
              "      <td>class_0</td>\n",
              "    </tr>\n",
              "  </tbody>\n",
              "</table>\n",
              "</div>"
            ],
            "text/plain": [
              "   Unnamed: 0  alcohol  ...  proline    Class\n",
              "0           0    14.23  ...   1065.0  class_0\n",
              "1           1    13.20  ...   1050.0  class_0\n",
              "2           2    13.16  ...   1185.0  class_0\n",
              "3           3    14.37  ...   1480.0  class_0\n",
              "4           4    13.24  ...    735.0  class_0\n",
              "\n",
              "[5 rows x 15 columns]"
            ]
          },
          "metadata": {
            "tags": []
          },
          "execution_count": 1
        }
      ]
    },
    {
      "cell_type": "code",
      "metadata": {
        "id": "lJaOrHjwm2lD"
      },
      "source": [
        "le = LabelEncoder()\n",
        "df['Class']=le.fit_transform(df['Class'])"
      ],
      "execution_count": null,
      "outputs": []
    },
    {
      "cell_type": "code",
      "metadata": {
        "id": "402B4RXgm3NL"
      },
      "source": [
        "X = df.iloc[:, 1:-1]\n",
        "y = df['Class']"
      ],
      "execution_count": null,
      "outputs": []
    },
    {
      "cell_type": "code",
      "metadata": {
        "colab": {
          "base_uri": "https://localhost:8080/"
        },
        "id": "8-xu5_Wynrl4",
        "outputId": "66921b58-51fe-45dc-aa34-5b40a8693770"
      },
      "source": [
        "X.columns"
      ],
      "execution_count": null,
      "outputs": [
        {
          "output_type": "execute_result",
          "data": {
            "text/plain": [
              "Index(['alcohol', 'malic_acid', 'ash', 'alcalinity_of_ash', 'magnesium',\n",
              "       'total_phenols', 'flavanoids', 'nonflavanoid_phenols',\n",
              "       'proanthocyanins', 'color_intensity', 'hue',\n",
              "       'od280/od315_of_diluted_wines', 'proline'],\n",
              "      dtype='object')"
            ]
          },
          "metadata": {
            "tags": []
          },
          "execution_count": 4
        }
      ]
    },
    {
      "cell_type": "code",
      "metadata": {
        "colab": {
          "base_uri": "https://localhost:8080/"
        },
        "id": "xQivPU8KoX2T",
        "outputId": "603aeed7-e9c7-4f75-f3e8-a2f866f0e837"
      },
      "source": [
        "X.shape"
      ],
      "execution_count": null,
      "outputs": [
        {
          "output_type": "execute_result",
          "data": {
            "text/plain": [
              "(178, 13)"
            ]
          },
          "metadata": {
            "tags": []
          },
          "execution_count": 13
        }
      ]
    },
    {
      "cell_type": "code",
      "metadata": {
        "colab": {
          "base_uri": "https://localhost:8080/"
        },
        "id": "XXJTgBw7m5qF",
        "outputId": "4f43378e-aa74-400f-b9b2-2ce71391592e"
      },
      "source": [
        "from sklearn.decomposition import PCA\n",
        "import matplotlib.pyplot as plt\n",
        "\n",
        "pca = PCA()\n",
        "pca.fit(X)"
      ],
      "execution_count": null,
      "outputs": [
        {
          "output_type": "execute_result",
          "data": {
            "text/plain": [
              "PCA(copy=True, iterated_power='auto', n_components=None, random_state=None,\n",
              "    svd_solver='auto', tol=0.0, whiten=False)"
            ]
          },
          "metadata": {
            "tags": []
          },
          "execution_count": 6
        }
      ]
    },
    {
      "cell_type": "code",
      "metadata": {
        "id": "o_hYPvgFn_jY"
      },
      "source": [
        "data = pca.fit_transform(X)"
      ],
      "execution_count": null,
      "outputs": []
    },
    {
      "cell_type": "code",
      "metadata": {
        "colab": {
          "base_uri": "https://localhost:8080/"
        },
        "id": "y_H9R8KqoD36",
        "outputId": "5b1819a5-5934-47bc-8092-0bbe53be8023"
      },
      "source": [
        "pca.components_.shape"
      ],
      "execution_count": null,
      "outputs": [
        {
          "output_type": "execute_result",
          "data": {
            "text/plain": [
              "(13, 13)"
            ]
          },
          "metadata": {
            "tags": []
          },
          "execution_count": 12
        }
      ]
    },
    {
      "cell_type": "markdown",
      "metadata": {
        "id": "lzDwQ_bUqj1m"
      },
      "source": [
        "# List the pca.components_ matrix\n",
        "\n",
        "Index is pca components PC1 to PC13 since no value is provided in the PCA model. n_components id default to the min(#samples, #features). In this case, we have #features=13.\n",
        "\n",
        "**The pca.components_ matrix has a dimension of 13x13.**\n",
        "\n",
        "For each row, value under each feature is called feature score which represents 'how much' the feature influences the PC. The higher the absolute value, the higher the influence on the principal component (PC1). Hence in row 0 (PC1), the feature that has the highest influence is \"proline\" (score = 0.999823).\n",
        "\n",
        "Similarly, for row 1 (PC2), the feature that has the highest influence is magnesium with a feature score of 0.999344. etc."
      ]
    },
    {
      "cell_type": "code",
      "metadata": {
        "id": "JXHNSFlpqY2P"
      },
      "source": [
        "df_components = pd.DataFrame(pca.components_, columns=list(X.columns))"
      ],
      "execution_count": null,
      "outputs": []
    },
    {
      "cell_type": "code",
      "metadata": {
        "colab": {
          "base_uri": "https://localhost:8080/",
          "height": 470
        },
        "id": "tzrbKa0tqfa6",
        "outputId": "9d131bc6-e814-4063-f2f1-04688f503182"
      },
      "source": [
        "df_components"
      ],
      "execution_count": null,
      "outputs": [
        {
          "output_type": "execute_result",
          "data": {
            "text/html": [
              "<div>\n",
              "<style scoped>\n",
              "    .dataframe tbody tr th:only-of-type {\n",
              "        vertical-align: middle;\n",
              "    }\n",
              "\n",
              "    .dataframe tbody tr th {\n",
              "        vertical-align: top;\n",
              "    }\n",
              "\n",
              "    .dataframe thead th {\n",
              "        text-align: right;\n",
              "    }\n",
              "</style>\n",
              "<table border=\"1\" class=\"dataframe\">\n",
              "  <thead>\n",
              "    <tr style=\"text-align: right;\">\n",
              "      <th></th>\n",
              "      <th>alcohol</th>\n",
              "      <th>malic_acid</th>\n",
              "      <th>ash</th>\n",
              "      <th>alcalinity_of_ash</th>\n",
              "      <th>magnesium</th>\n",
              "      <th>total_phenols</th>\n",
              "      <th>flavanoids</th>\n",
              "      <th>nonflavanoid_phenols</th>\n",
              "      <th>proanthocyanins</th>\n",
              "      <th>color_intensity</th>\n",
              "      <th>hue</th>\n",
              "      <th>od280/od315_of_diluted_wines</th>\n",
              "      <th>proline</th>\n",
              "    </tr>\n",
              "  </thead>\n",
              "  <tbody>\n",
              "    <tr>\n",
              "      <th>0</th>\n",
              "      <td>0.001659</td>\n",
              "      <td>-0.000681</td>\n",
              "      <td>0.000195</td>\n",
              "      <td>-0.004671</td>\n",
              "      <td>0.017868</td>\n",
              "      <td>0.000990</td>\n",
              "      <td>0.001567</td>\n",
              "      <td>-0.000123</td>\n",
              "      <td>0.000601</td>\n",
              "      <td>0.002327</td>\n",
              "      <td>0.000171</td>\n",
              "      <td>0.000705</td>\n",
              "      <td>0.999823</td>\n",
              "    </tr>\n",
              "    <tr>\n",
              "      <th>1</th>\n",
              "      <td>0.001203</td>\n",
              "      <td>0.002155</td>\n",
              "      <td>0.004594</td>\n",
              "      <td>0.026450</td>\n",
              "      <td>0.999344</td>\n",
              "      <td>0.000878</td>\n",
              "      <td>-0.000052</td>\n",
              "      <td>-0.001354</td>\n",
              "      <td>0.005004</td>\n",
              "      <td>0.015100</td>\n",
              "      <td>-0.000763</td>\n",
              "      <td>-0.003495</td>\n",
              "      <td>-0.017774</td>\n",
              "    </tr>\n",
              "    <tr>\n",
              "      <th>2</th>\n",
              "      <td>-0.016874</td>\n",
              "      <td>-0.122003</td>\n",
              "      <td>-0.051987</td>\n",
              "      <td>-0.938593</td>\n",
              "      <td>0.029780</td>\n",
              "      <td>0.040485</td>\n",
              "      <td>0.085443</td>\n",
              "      <td>-0.013511</td>\n",
              "      <td>0.024659</td>\n",
              "      <td>-0.291398</td>\n",
              "      <td>0.025978</td>\n",
              "      <td>0.070324</td>\n",
              "      <td>-0.004529</td>\n",
              "    </tr>\n",
              "    <tr>\n",
              "      <th>3</th>\n",
              "      <td>-0.141447</td>\n",
              "      <td>-0.160390</td>\n",
              "      <td>0.009773</td>\n",
              "      <td>0.330965</td>\n",
              "      <td>0.005394</td>\n",
              "      <td>0.074585</td>\n",
              "      <td>0.169087</td>\n",
              "      <td>-0.010806</td>\n",
              "      <td>0.050121</td>\n",
              "      <td>-0.878894</td>\n",
              "      <td>0.060035</td>\n",
              "      <td>0.178200</td>\n",
              "      <td>0.003113</td>\n",
              "    </tr>\n",
              "    <tr>\n",
              "      <th>4</th>\n",
              "      <td>0.020337</td>\n",
              "      <td>-0.612883</td>\n",
              "      <td>0.020176</td>\n",
              "      <td>0.064352</td>\n",
              "      <td>-0.006149</td>\n",
              "      <td>0.315245</td>\n",
              "      <td>0.524761</td>\n",
              "      <td>-0.029648</td>\n",
              "      <td>0.251183</td>\n",
              "      <td>0.331747</td>\n",
              "      <td>0.051524</td>\n",
              "      <td>0.260639</td>\n",
              "      <td>-0.002299</td>\n",
              "    </tr>\n",
              "    <tr>\n",
              "      <th>5</th>\n",
              "      <td>0.194120</td>\n",
              "      <td>0.742473</td>\n",
              "      <td>0.041753</td>\n",
              "      <td>-0.024065</td>\n",
              "      <td>-0.001924</td>\n",
              "      <td>0.278717</td>\n",
              "      <td>0.433598</td>\n",
              "      <td>-0.021953</td>\n",
              "      <td>0.241884</td>\n",
              "      <td>0.002740</td>\n",
              "      <td>-0.023776</td>\n",
              "      <td>0.288913</td>\n",
              "      <td>-0.001212</td>\n",
              "    </tr>\n",
              "    <tr>\n",
              "      <th>6</th>\n",
              "      <td>-0.923280</td>\n",
              "      <td>0.150110</td>\n",
              "      <td>-0.045010</td>\n",
              "      <td>-0.031527</td>\n",
              "      <td>-0.001797</td>\n",
              "      <td>0.020186</td>\n",
              "      <td>0.038869</td>\n",
              "      <td>0.004665</td>\n",
              "      <td>0.309799</td>\n",
              "      <td>0.112837</td>\n",
              "      <td>-0.030820</td>\n",
              "      <td>-0.101974</td>\n",
              "      <td>0.001076</td>\n",
              "    </tr>\n",
              "    <tr>\n",
              "      <th>7</th>\n",
              "      <td>-0.284821</td>\n",
              "      <td>0.064674</td>\n",
              "      <td>0.149340</td>\n",
              "      <td>-0.015154</td>\n",
              "      <td>0.003552</td>\n",
              "      <td>0.177238</td>\n",
              "      <td>0.248117</td>\n",
              "      <td>-0.006498</td>\n",
              "      <td>-0.870433</td>\n",
              "      <td>0.081287</td>\n",
              "      <td>0.002952</td>\n",
              "      <td>0.186715</td>\n",
              "      <td>-0.000010</td>\n",
              "    </tr>\n",
              "    <tr>\n",
              "      <th>8</th>\n",
              "      <td>-0.086601</td>\n",
              "      <td>-0.015662</td>\n",
              "      <td>-0.073650</td>\n",
              "      <td>-0.002045</td>\n",
              "      <td>0.001964</td>\n",
              "      <td>-0.255673</td>\n",
              "      <td>-0.378307</td>\n",
              "      <td>-0.036752</td>\n",
              "      <td>0.051520</td>\n",
              "      <td>0.099029</td>\n",
              "      <td>-0.033065</td>\n",
              "      <td>0.873747</td>\n",
              "      <td>0.000073</td>\n",
              "    </tr>\n",
              "    <tr>\n",
              "      <th>9</th>\n",
              "      <td>-0.002245</td>\n",
              "      <td>-0.018509</td>\n",
              "      <td>-0.086800</td>\n",
              "      <td>0.003554</td>\n",
              "      <td>-0.000041</td>\n",
              "      <td>0.847195</td>\n",
              "      <td>-0.520138</td>\n",
              "      <td>0.037713</td>\n",
              "      <td>0.009723</td>\n",
              "      <td>-0.023147</td>\n",
              "      <td>-0.038470</td>\n",
              "      <td>0.017017</td>\n",
              "      <td>0.000049</td>\n",
              "    </tr>\n",
              "    <tr>\n",
              "      <th>10</th>\n",
              "      <td>-0.014972</td>\n",
              "      <td>-0.023188</td>\n",
              "      <td>0.954011</td>\n",
              "      <td>-0.052822</td>\n",
              "      <td>-0.003025</td>\n",
              "      <td>0.008802</td>\n",
              "      <td>-0.133205</td>\n",
              "      <td>0.199179</td>\n",
              "      <td>0.135621</td>\n",
              "      <td>-0.009820</td>\n",
              "      <td>0.097511</td>\n",
              "      <td>0.028485</td>\n",
              "      <td>-0.000240</td>\n",
              "    </tr>\n",
              "    <tr>\n",
              "      <th>11</th>\n",
              "      <td>-0.015651</td>\n",
              "      <td>0.067296</td>\n",
              "      <td>-0.132063</td>\n",
              "      <td>0.005394</td>\n",
              "      <td>0.000621</td>\n",
              "      <td>0.003883</td>\n",
              "      <td>-0.037488</td>\n",
              "      <td>0.147552</td>\n",
              "      <td>-0.013119</td>\n",
              "      <td>0.050356</td>\n",
              "      <td>0.975562</td>\n",
              "      <td>0.011630</td>\n",
              "      <td>-0.000100</td>\n",
              "    </tr>\n",
              "    <tr>\n",
              "      <th>12</th>\n",
              "      <td>0.008029</td>\n",
              "      <td>-0.011090</td>\n",
              "      <td>-0.173686</td>\n",
              "      <td>0.001940</td>\n",
              "      <td>0.002285</td>\n",
              "      <td>-0.026691</td>\n",
              "      <td>0.069599</td>\n",
              "      <td>0.966466</td>\n",
              "      <td>-0.017604</td>\n",
              "      <td>-0.004633</td>\n",
              "      <td>-0.166551</td>\n",
              "      <td>0.044192</td>\n",
              "      <td>0.000036</td>\n",
              "    </tr>\n",
              "  </tbody>\n",
              "</table>\n",
              "</div>"
            ],
            "text/plain": [
              "     alcohol  malic_acid  ...  od280/od315_of_diluted_wines   proline\n",
              "0   0.001659   -0.000681  ...                      0.000705  0.999823\n",
              "1   0.001203    0.002155  ...                     -0.003495 -0.017774\n",
              "2  -0.016874   -0.122003  ...                      0.070324 -0.004529\n",
              "3  -0.141447   -0.160390  ...                      0.178200  0.003113\n",
              "4   0.020337   -0.612883  ...                      0.260639 -0.002299\n",
              "5   0.194120    0.742473  ...                      0.288913 -0.001212\n",
              "6  -0.923280    0.150110  ...                     -0.101974  0.001076\n",
              "7  -0.284821    0.064674  ...                      0.186715 -0.000010\n",
              "8  -0.086601   -0.015662  ...                      0.873747  0.000073\n",
              "9  -0.002245   -0.018509  ...                      0.017017  0.000049\n",
              "10 -0.014972   -0.023188  ...                      0.028485 -0.000240\n",
              "11 -0.015651    0.067296  ...                      0.011630 -0.000100\n",
              "12  0.008029   -0.011090  ...                      0.044192  0.000036\n",
              "\n",
              "[13 rows x 13 columns]"
            ]
          },
          "metadata": {
            "tags": []
          },
          "execution_count": 15
        }
      ]
    },
    {
      "cell_type": "code",
      "metadata": {
        "id": "6pFLU88NtO2a"
      },
      "source": [
        ""
      ],
      "execution_count": null,
      "outputs": []
    }
  ]
}