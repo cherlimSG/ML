{
  "nbformat": 4,
  "nbformat_minor": 0,
  "metadata": {
    "colab": {
      "name": "Regression.ipynb",
      "provenance": [],
      "authorship_tag": "ABX9TyOUF7rf+tWY7oh2tEKyi13t",
      "include_colab_link": true
    },
    "kernelspec": {
      "name": "python3",
      "display_name": "Python 3"
    },
    "language_info": {
      "name": "python"
    }
  },
  "cells": [
    {
      "cell_type": "markdown",
      "metadata": {
        "id": "view-in-github",
        "colab_type": "text"
      },
      "source": [
        "<a href=\"https://colab.research.google.com/github/cherlimSG/ML/blob/main/Regression.ipynb\" target=\"_parent\"><img src=\"https://colab.research.google.com/assets/colab-badge.svg\" alt=\"Open In Colab\"/></a>"
      ]
    },
    {
      "cell_type": "code",
      "metadata": {
        "id": "U_43b_DI9REe"
      },
      "source": [
        "%matplotlib inline\n",
        "import numpy as np\n",
        "import pandas as pd\n",
        "import matplotlib.pyplot as plt\n",
        "\n",
        "from sklearn.metrics import mean_squared_error, r2_score\n",
        "\n",
        "from sklearn.model_selection import train_test_split\n",
        "\n",
        "from sklearn.linear_model import LinearRegression\n",
        "from sklearn.linear_model import Lasso\n",
        "from sklearn.linear_model import Ridge\n",
        "from sklearn.preprocessing import MinMaxScaler"
      ],
      "execution_count": null,
      "outputs": []
    },
    {
      "cell_type": "markdown",
      "metadata": {
        "id": "0JjJTeyZJgv2"
      },
      "source": [
        "#Load mtcars dataset\n",
        "\n",
        "Download the data file from Polymall and upload it here!\n",
        "\n"
      ]
    },
    {
      "cell_type": "markdown",
      "metadata": {
        "id": "X8EC1BkPlPf2"
      },
      "source": [
        "Run the following cells to load the data."
      ]
    },
    {
      "cell_type": "code",
      "metadata": {
        "id": "o_rEEZ0OBDQ8",
        "colab": {
          "base_uri": "https://localhost:8080/"
        },
        "outputId": "1e587200-b0f8-4bd5-82de-b5ba61dce06c"
      },
      "source": [
        "url = 'https://raw.githubusercontent.com/cherlim/NP/main/mtcars.csv'\n",
        "#car_dataset = pd.read_csv('mtcars.csv')\n",
        "car_dataset = pd.read_csv(url)\n",
        "\n",
        "\n",
        "# Print a few rows of crime_dataset\n",
        "print(car_dataset.head())\n",
        "\n",
        "# Print all column names/ feature names\n",
        "print(car_dataset.columns)\n",
        "\n",
        "# Target is the 'mpg' column"
      ],
      "execution_count": null,
      "outputs": [
        {
          "output_type": "stream",
          "text": [
            "               model   mpg  cyl   disp   hp  ...   qsec  vs  am  gear  carb\n",
            "0          Mazda RX4  21.0    6  160.0  110  ...  16.46   0   1     4     4\n",
            "1      Mazda RX4 Wag  21.0    6  160.0  110  ...  17.02   0   1     4     4\n",
            "2         Datsun 710  22.8    4  108.0   93  ...  18.61   1   1     4     1\n",
            "3     Hornet 4 Drive  21.4    6  258.0  110  ...  19.44   1   0     3     1\n",
            "4  Hornet Sportabout  18.7    8  360.0  175  ...  17.02   0   0     3     2\n",
            "\n",
            "[5 rows x 12 columns]\n",
            "Index(['model', 'mpg', 'cyl', 'disp', 'hp', 'drat', 'wt', 'qsec', 'vs', 'am',\n",
            "       'gear', 'carb'],\n",
            "      dtype='object')\n"
          ],
          "name": "stdout"
        }
      ]
    },
    {
      "cell_type": "code",
      "metadata": {
        "id": "zM0kvJBtSESh",
        "colab": {
          "base_uri": "https://localhost:8080/"
        },
        "outputId": "f4f1b3dc-9955-40b4-e94d-bdc76361c524"
      },
      "source": [
        "# Display average values of columns of the dataset\n",
        "# Why? Feature normalization later!\n",
        "\n",
        "car_dataset.mean()"
      ],
      "execution_count": null,
      "outputs": [
        {
          "output_type": "execute_result",
          "data": {
            "text/plain": [
              "mpg      20.090625\n",
              "cyl       6.187500\n",
              "disp    230.721875\n",
              "hp      146.687500\n",
              "drat      3.596563\n",
              "wt        3.217250\n",
              "qsec     17.848750\n",
              "vs        0.437500\n",
              "am        0.406250\n",
              "gear      3.687500\n",
              "carb      2.812500\n",
              "dtype: float64"
            ]
          },
          "metadata": {
            "tags": []
          },
          "execution_count": 117
        }
      ]
    },
    {
      "cell_type": "markdown",
      "metadata": {
        "id": "iSO9e3bMGoHi"
      },
      "source": [
        "We will take all columns after 'mpg' as features."
      ]
    },
    {
      "cell_type": "code",
      "metadata": {
        "id": "AuXmySKC7cM_"
      },
      "source": [
        "X_car =  car_dataset.iloc[:, 2:12]\n",
        "y_car = car_dataset['mpg']"
      ],
      "execution_count": null,
      "outputs": []
    },
    {
      "cell_type": "code",
      "metadata": {
        "id": "FqTy1UHI78dv",
        "colab": {
          "base_uri": "https://localhost:8080/"
        },
        "outputId": "f1ef6850-dea3-4da8-8132-c2af0741aa3b"
      },
      "source": [
        "# Print type and size of X_car\n",
        "print(type(X_car), X_car.shape)\n",
        "\n",
        "# Print type and size of y_car\n",
        "print(type(y_car), y_car.shape)"
      ],
      "execution_count": null,
      "outputs": [
        {
          "output_type": "stream",
          "text": [
            "<class 'pandas.core.frame.DataFrame'> (32, 10)\n",
            "<class 'pandas.core.series.Series'> (32,)\n"
          ],
          "name": "stdout"
        }
      ]
    },
    {
      "cell_type": "markdown",
      "metadata": {
        "id": "LS4N8-Tkx-7K"
      },
      "source": [
        "#Split data into Train / Validation / Test sets. (10 marks)"
      ]
    },
    {
      "cell_type": "code",
      "metadata": {
        "id": "fdw1LOQ6yHED"
      },
      "source": [
        "# Your code\n",
        "#X_train_val, X_test, y_train_val, y_test = ....................................................\n",
        "X_train_val, X_test, y_train_val, y_test = train_test_split(X_car, y_car, test_size = 0.1, random_state = 0)\n",
        "\n",
        "#X_train, X_val, y_train, y_val = ....................................................\n",
        "X_train, X_val, y_train, y_val = train_test_split(X_train_val, y_train_val, test_size = 0.2, random_state = 0)\n",
        "\n"
      ],
      "execution_count": null,
      "outputs": []
    },
    {
      "cell_type": "code",
      "metadata": {
        "id": "ecYIaZNjAkCR"
      },
      "source": [
        ""
      ],
      "execution_count": null,
      "outputs": []
    },
    {
      "cell_type": "markdown",
      "metadata": {
        "id": "_bUhGH5sURFK"
      },
      "source": [
        "#Lasso model: searching for the best $\\alpha$. (45 marks)"
      ]
    },
    {
      "cell_type": "markdown",
      "metadata": {
        "id": "6JViKTFrRKFS"
      },
      "source": [
        "###Activity 1(a): Write a function called `get_mse_Lasso`\n",
        "\n",
        "Inputs:\n",
        "\n",
        "- `X_train`, `y_train`, `X_val`, `y_val`, and\n",
        "- `alpha`\n",
        "\n",
        "Ouput:\n",
        "- `train_mse`: $\\text{MSE}$ on the training set\n",
        "-`val_mse`: $\\text{MSE}$ on the validation set\n",
        "\n",
        "Note: We need to scale the training set and the validation set."
      ]
    },
    {
      "cell_type": "code",
      "metadata": {
        "id": "n9a-i4zM-0sz"
      },
      "source": [
        "# Scale the training set\n",
        "my_scaler = MinMaxScaler()\n",
        "X_train_MinMax = my_scaler.fit_transform(X_train)\n",
        "\n",
        "# Transform the validation set\n",
        "X_val_MinMax = my_scaler.transform(X_val)\n",
        "#X_test_MinMax = my_scaler.transform(X_test)"
      ],
      "execution_count": null,
      "outputs": []
    },
    {
      "cell_type": "code",
      "metadata": {
        "id": "kuephHcU0PMy"
      },
      "source": [
        "# Your code\n",
        "\n",
        "def get_mse_Lasso(alphas):\n",
        "\n",
        "  # Create a Lasso regression model and train it\n",
        "  my_LR_Lasso_02 = Lasso(alpha=alphas)\n",
        "  my_LR_Lasso_02.fit(X_train_MinMax, y_train)\n",
        "\n",
        "  # determine MSE on training set\n",
        "  y_train_predict = my_LR_Lasso_02.predict(X_train_MinMax)\n",
        "  train_mse = mean_squared_error(y_train, y_train_predict)\n",
        "\n",
        "  # determine MSE on testing set\n",
        "  y_val_predict = my_LR_Lasso_02.predict(X_val_MinMax)\n",
        "  val_mse = mean_squared_error(y_val, y_val_predict)\n",
        "  \n",
        "\n",
        "  return train_mse, val_mse "
      ],
      "execution_count": null,
      "outputs": []
    },
    {
      "cell_type": "markdown",
      "metadata": {
        "id": "burmR66AUVpJ"
      },
      "source": [
        "###Activity 3(a): Plot `train_mse_array_Lasso` and `val_mse_array_Lasso`. Choose the best `alpha`."
      ]
    },
    {
      "cell_type": "code",
      "metadata": {
        "id": "mfgWUEBWUayc"
      },
      "source": [
        "# Your code\n",
        "train_mse_array_Lasso = []\n",
        "val_mse_array_Lasso = []\n",
        "\n",
        "alpha_array = np.linspace(0.000001,10,1000,dtype=float)\n",
        "\n",
        "for i in alpha_array:\n",
        "\n",
        "  temp = get_mse_Lasso(i)\n",
        "\n",
        "  train_mse_array_Lasso.append(temp[0])\n",
        "\n",
        "  val_mse_array_Lasso.append(temp[1])\n"
      ],
      "execution_count": null,
      "outputs": []
    },
    {
      "cell_type": "markdown",
      "metadata": {
        "id": "zFxy-2VQYOLX"
      },
      "source": [
        "###Activity 3(a): Plot `train_mse_array` and `val_mse_array`. Choose the best `alpha`."
      ]
    },
    {
      "cell_type": "code",
      "metadata": {
        "id": "W7qLOTCrYkij",
        "colab": {
          "base_uri": "https://localhost:8080/",
          "height": 571
        },
        "outputId": "a603bb3a-071b-43c2-bf38-f406708d69c5"
      },
      "source": [
        "plt.figure(figsize = (11, 9))\n",
        "\n",
        "plt.semilogx(alpha_array, train_mse_array_Lasso, color = 'blue', label = \"MSE on the training set\")\n",
        "plt.semilogx(alpha_array, val_mse_array_Lasso, color = 'red', label = \"MSE on the validation set\")\n",
        "\n",
        "plt.legend() # to show legends\n",
        "plt.title(\"LASSO model\")\n",
        "plt.xlabel('alpha')\n",
        "plt.ylabel('MSE')\n",
        "plt.grid()\n",
        "plt.show()"
      ],
      "execution_count": null,
      "outputs": [
        {
          "output_type": "display_data",
          "data": {
            "image/png": "[encoded data removed]",
            "text/plain": [
              "<Figure size 792x648 with 1 Axes>"
            ]
          },
          "metadata": {
            "tags": [],
            "needs_background": "light"
          }
        }
      ]
    },
    {
      "cell_type": "markdown",
      "metadata": {
        "id": "pitHmRnJg3cE"
      },
      "source": [
        "## What is your choosen $\\alpha$ for the final LASSO model?\n",
        "# Answer: 0.37"
      ]
    },
    {
      "cell_type": "markdown",
      "metadata": {
        "id": "Fl4T-aW-qT9i"
      },
      "source": [
        "##Final LASSO model"
      ]
    },
    {
      "cell_type": "markdown",
      "metadata": {
        "id": "bqXO7s7jJ4ip"
      },
      "source": [
        "Write codes to complete the following tasks:\n",
        "\n",
        "- Use the training set and validation set as the training set for the final model.\n",
        "\n",
        "- Scale the new training set.\n",
        "\n",
        "- Create and train the final model.\n",
        "\n",
        "- Scale the test set.\n",
        "\n",
        "- Calculate and print out $\\text{MSE}$ and $\\text{RMSE}$ when using the final model to test on the test set."
      ]
    },
    {
      "cell_type": "code",
      "metadata": {
        "id": "8V-VTNZjhAew",
        "colab": {
          "base_uri": "https://localhost:8080/"
        },
        "outputId": "acfc7bd1-81eb-42a7-9b73-771a59f79012"
      },
      "source": [
        "# Your code\n",
        "\n",
        "# Scale the training/validation set\n",
        "my_scaler = MinMaxScaler()\n",
        "X_train_MinMax = my_scaler.fit_transform(X_train)\n",
        "\n",
        "# Transform the test set\n",
        "X_test_MinMax = my_scaler.transform(X_test)\n",
        "\n",
        "# Create a Lasso model and train it\n",
        "my_LR_Lasso_03 = Lasso(alpha=0.37)\n",
        "my_LR_Lasso_03.fit(X_train_MinMax, y_train)\n",
        "\n",
        "# determine MSE, RMSE on testing set\n",
        "y_test_predict = my_LR_Lasso_03.predict(X_test_MinMax)\n",
        "\n",
        "#MSE_test_Lasso = mean_squared_error(y_test, y_test_predict)\n",
        "MSE_test_Lasso = mean_squared_error(y_test, y_test_predict)\n",
        "RMSE_test_Lasso = np.sqrt(MSE_test_Lasso)\n",
        "\n",
        "print(\"MSE (Final): {:.3f}\".format(MSE_test_Lasso))\n",
        "print(\"RMSE (Final): {:.3f}\".format(RMSE_test_Lasso))\n"
      ],
      "execution_count": null,
      "outputs": [
        {
          "output_type": "stream",
          "text": [
            "MSE (Final): 4.894\n",
            "RMSE (Final): 2.212\n"
          ],
          "name": "stdout"
        }
      ]
    },
    {
      "cell_type": "markdown",
      "metadata": {
        "id": "ND8_dL3ccdPs"
      },
      "source": [
        "# Extra activity: Combine Validation and Test sets for final testing\n",
        "Due to the small dataset (only 32 samples), final testing is carried out by combining both validation and test sets.\n"
      ]
    },
    {
      "cell_type": "code",
      "metadata": {
        "colab": {
          "base_uri": "https://localhost:8080/"
        },
        "id": "sH5ZglSWbldT",
        "outputId": "217773e4-1d3e-4b63-887c-3d378360aa3d"
      },
      "source": [
        "# Your code\n",
        "\n",
        "# Scale the training/validation set\n",
        "my_scaler = MinMaxScaler()\n",
        "X_train_MinMax = my_scaler.fit_transform(X_train)\n",
        "\n",
        "#Experiment with a bigger test set by appending both X_test and X_val\n",
        "X_test_new = X_test.append(X_val)\n",
        "y_test_new = y_test.append(y_val)\n",
        "\n",
        "# Transform the test set\n",
        "#X_test_MinMax = my_scaler.transform(X_test)\n",
        "X_test_new_MinMax = my_scaler.transform(X_test_new)\n",
        "\n",
        "# Create a Lasso model and train it\n",
        "my_LR_Lasso_03 = Lasso(alpha=0.37)\n",
        "my_LR_Lasso_03.fit(X_train_MinMax, y_train)\n",
        "\n",
        "# determine MSE, RMSE on testing set\n",
        "y_test_new_predict = my_LR_Lasso_03.predict(X_test_new_MinMax)\n",
        "\n",
        "#MSE_test_Lasso = mean_squared_error(y_test, y_test_predict)\n",
        "MSE_test_new_Lasso = mean_squared_error(y_test_new, y_test_new_predict)\n",
        "RMSE_test_new_Lasso = np.sqrt(MSE_test_new_Lasso)\n",
        "\n",
        "print(\"MSE (Final): {:.3f}\".format(MSE_test_new_Lasso))\n",
        "print(\"RMSE (Final): {:.3f}\".format(RMSE_test_new_Lasso))"
      ],
      "execution_count": null,
      "outputs": [
        {
          "output_type": "stream",
          "text": [
            "MSE (Final): 6.792\n",
            "RMSE (Final): 2.606\n"
          ],
          "name": "stdout"
        }
      ]
    },
    {
      "cell_type": "code",
      "metadata": {
        "colab": {
          "base_uri": "https://localhost:8080/"
        },
        "id": "gktqeVzuHHLm",
        "outputId": "b5237e47-87a0-4742-cf4c-d56237eb31f3"
      },
      "source": [
        "print(y_test_new_predict)"
      ],
      "execution_count": null,
      "outputs": [
        {
          "output_type": "stream",
          "text": [
            "[15.6983243  16.25818604 20.72928276 26.64943761 14.57419247 14.65795132\n",
            " 17.64445327 26.11269154 25.36897103 15.95400919 17.64445327 27.36094693\n",
            " 26.24386848 27.27101639 15.95400919 26.98888134]\n"
          ],
          "name": "stdout"
        }
      ]
    },
    {
      "cell_type": "code",
      "metadata": {
        "colab": {
          "base_uri": "https://localhost:8080/",
          "height": 296
        },
        "id": "4lilvrMbE6Tt",
        "outputId": "ca520760-e89d-414f-baba-e15244cb7e79"
      },
      "source": [
        "plt.scatter(y_test_new, y_test_new_predict, color = \"red\")\n",
        "p1 = max(max(y_test_new_predict), max(y_test_new))\n",
        "p2 = min(min(y_test_new_predict), min(y_test_new))\n",
        "plt.plot([p1, p2], [p1, p2], color = 'blue')\n",
        "plt.title(\"Test result for Lasso Alpha=0.37\")\n",
        "plt.xlabel(\"y_test\")\n",
        "plt.ylabel(\"y_test_predict\")\n",
        "plt.show()"
      ],
      "execution_count": null,
      "outputs": [
        {
          "output_type": "display_data",
          "data": {
            "image/png": "[encoded data removed]",
            "text/plain": [
              "<Figure size 432x288 with 1 Axes>"
            ]
          },
          "metadata": {
            "tags": [],
            "needs_background": "light"
          }
        }
      ]
    },
    {
      "cell_type": "markdown",
      "metadata": {
        "id": "Kj8dTc3cuN5Q"
      },
      "source": [
        "#Ridge Regression: searching for the best $\\alpha$. (45 marks)"
      ]
    },
    {
      "cell_type": "markdown",
      "metadata": {
        "id": "z7Aj2bscvPkt"
      },
      "source": [
        "###Activity 1(b): Write a function called `get_mse_Ridge`\n",
        "\n",
        "Inputs:\n",
        "\n",
        "- `X_train`, `y_train`, `X_val`, `y_val`, and\n",
        "- `alpha`\n",
        "\n",
        "Ouput:\n",
        "- `train_mse`: $\\text{MSE}$ on the training set\n",
        "-`val_mse`: $\\text{MSE}$ on the validation set\n",
        "\n",
        "Note: We need to scale the training set and the validation set."
      ]
    },
    {
      "cell_type": "code",
      "metadata": {
        "id": "NCO20jtss-mc"
      },
      "source": [
        "# Scale the training set\n",
        "my_scaler = MinMaxScaler()\n",
        "X_train_MinMax = my_scaler.fit_transform(X_train)\n",
        "\n",
        "# Transform the validation set\n",
        "X_val_MinMax = my_scaler.transform(X_val)\n"
      ],
      "execution_count": null,
      "outputs": []
    },
    {
      "cell_type": "code",
      "metadata": {
        "id": "quTE7ZUju61p"
      },
      "source": [
        "# Your code\n",
        "\n",
        "def get_mse_Ridge(alpha):\n",
        "\n",
        "  # Create a Ridge regression model and train it\n",
        "  my_LR_Ridge_02 = Ridge(alpha=alpha)\n",
        "  my_LR_Ridge_02.fit(X_train_MinMax, y_train)\n",
        "\n",
        "  # determine MSE on training set\n",
        "  y_predict_train = my_LR_Ridge_02.predict(X_train_MinMax)\n",
        "  train_mse = mean_squared_error(y_train, y_predict_train)\n",
        "\n",
        "  # determine MSE on testing set\n",
        "  y_predict_val = my_LR_Ridge_02.predict(X_val_MinMax)\n",
        "  val_mse = mean_squared_error(y_val, y_predict_val)\n",
        "  \n",
        "\n",
        "  return train_mse, val_mse "
      ],
      "execution_count": null,
      "outputs": []
    },
    {
      "cell_type": "markdown",
      "metadata": {
        "id": "O4bNlXU3-2Ib"
      },
      "source": [
        "###Activity 2(b): Use `get_mse_Ridge()` to get `train_mse` and `val_mse` for an array of `alpha`."
      ]
    },
    {
      "cell_type": "code",
      "metadata": {
        "id": "NyfGcJ8wLeyD"
      },
      "source": [
        "# Your code\n",
        "\n",
        "train_mse_array_Ridge = []\n",
        "val_mse_array_Ridge = []\n",
        "\n",
        "alpha_array = np.linspace(0.000001,50,1000,dtype=float)\n",
        "\n",
        "for alpha in alpha_array:\n",
        "\n",
        "  temp = get_mse_Ridge(alpha)\n",
        "\n",
        "  train_mse_array_Ridge.append(temp[0])\n",
        "\n",
        "  val_mse_array_Ridge.append(temp[1])\n"
      ],
      "execution_count": null,
      "outputs": []
    },
    {
      "cell_type": "markdown",
      "metadata": {
        "id": "j5qk43Z2vj79"
      },
      "source": [
        "###Activity 3(b): Plot `train_mse_array_Ridge` and `val_mse_array_Ridge`. Choose the best `alpha`."
      ]
    },
    {
      "cell_type": "code",
      "metadata": {
        "id": "DTY634NSL5b2",
        "colab": {
          "base_uri": "https://localhost:8080/",
          "height": 571
        },
        "outputId": "86cd79c0-aee0-4538-ce27-c8bd324ea964"
      },
      "source": [
        "# Your code\n",
        "\n",
        "plt.figure(figsize = (11, 9))\n",
        "\n",
        "plt.semilogx(alpha_array, train_mse_array_Ridge, color = 'blue', label = \"MSE on the training set\")\n",
        "plt.semilogx(alpha_array, val_mse_array_Ridge, color = 'red', label = \"MSE on the validation set\")\n",
        "\n",
        "plt.legend() # to show legends\n",
        "plt.title(\"Ridge regression\")\n",
        "plt.xlabel('alpha')\n",
        "plt.ylabel('MSE')\n",
        "plt.grid()\n",
        "plt.show()"
      ],
      "execution_count": null,
      "outputs": [
        {
          "output_type": "display_data",
          "data": {
            "image/png": "[encoded data removed]",
            "text/plain": [
              "<Figure size 792x648 with 1 Axes>"
            ]
          },
          "metadata": {
            "tags": [],
            "needs_background": "light"
          }
        }
      ]
    },
    {
      "cell_type": "markdown",
      "metadata": {
        "id": "6f_BeNZKMc_d"
      },
      "source": [
        "## What is your choosen $\\alpha$ for the final Ridge regression model?\n",
        "# Answer: 2"
      ]
    },
    {
      "cell_type": "markdown",
      "metadata": {
        "id": "83KMuRQFvsNX"
      },
      "source": [
        "##Final Ridge regression model"
      ]
    },
    {
      "cell_type": "markdown",
      "metadata": {
        "id": "sFg2YioCMuNW"
      },
      "source": [
        "Write codes to complete the following tasks:\n",
        "\n",
        "- Use the training set and validation set as the training set for the final model.\n",
        "\n",
        "- Scale the new training set.\n",
        "\n",
        "- Create and train the final model.\n",
        "\n",
        "- Scale the test set.\n",
        "\n",
        "- Calculate and print out $\\text{MSE}$ and $\\text{RMSE}$ when using the final model to test on the test set."
      ]
    },
    {
      "cell_type": "code",
      "metadata": {
        "id": "2bh-uwfpv5rX",
        "colab": {
          "base_uri": "https://localhost:8080/"
        },
        "outputId": "c478a57a-dc38-4af1-d32c-4083cd42a254"
      },
      "source": [
        "# Your code\n",
        "\n",
        "# Scale the training set\n",
        "my_scaler = MinMaxScaler()\n",
        "X_train_MinMax = my_scaler.fit_transform(X_train)\n",
        "\n",
        "# Transform the test set\n",
        "X_test_MinMax = my_scaler.transform(X_test)\n",
        "\n",
        "# Create a Ridge regression model and train it\n",
        "my_LR_Ridge_03 = Ridge(alpha=2)\n",
        "my_LR_Ridge_03.fit(X_test_MinMax, y_test)\n",
        "\n",
        "# determine MSE on test set\n",
        "y_predict_test = my_LR_Ridge_03.predict(X_test_MinMax)\n",
        "MSE_test_Ridge = mean_squared_error(y_test, y_predict_test)\n",
        "RMSE_test_Ridge = np.sqrt(MSE_test_Ridge)\n",
        "\n",
        "print(\"MSE (Final): {:.3f}\".format(MSE_test_Ridge))\n",
        "print(\"RMSE (Final): {:.3f}\".format(RMSE_test_Ridge))\n"
      ],
      "execution_count": null,
      "outputs": [
        {
          "output_type": "stream",
          "text": [
            "MSE (Final): 2.040\n",
            "RMSE (Final): 1.428\n"
          ],
          "name": "stdout"
        }
      ]
    },
    {
      "cell_type": "markdown",
      "metadata": {
        "id": "cBJ5KqcDeCUQ"
      },
      "source": [
        "# Extra activity: Combine validation and test sets for final testing\n",
        "Due to the small dataset size (only 32 samples), a final testing is used by combining both validation and test sets."
      ]
    },
    {
      "cell_type": "code",
      "metadata": {
        "colab": {
          "base_uri": "https://localhost:8080/"
        },
        "id": "1ediHewiZLmv",
        "outputId": "f90b42f0-b5ef-451a-cce3-cf4f14a477aa"
      },
      "source": [
        "#Validate combining the validation and test sets\n",
        "# Your code\n",
        "\n",
        "# Scale the training set\n",
        "my_scaler = MinMaxScaler()\n",
        "X_train_MinMax = my_scaler.fit_transform(X_train)\n",
        "\n",
        "# Transform the test set\n",
        "X_test_new_MinMax = my_scaler.transform(X_test_new)\n",
        "\n",
        "# Create a Ridge regression model and train it\n",
        "my_LR_Ridge_03 = Ridge(alpha=2)\n",
        "my_LR_Ridge_03.fit(X_test_new_MinMax, y_test_new)\n",
        "\n",
        "# determine MSE on test set\n",
        "y_predict_test_new = my_LR_Ridge_03.predict(X_test_new_MinMax)\n",
        "MSE_test_Ridge_new = mean_squared_error(y_test_new, y_predict_test_new)\n",
        "RMSE_test_Ridge_new = np.sqrt(MSE_test_Ridge)\n",
        "\n",
        "print(\"MSE (Final): {:.3f}\".format(MSE_test_Ridge_new))\n",
        "print(\"RMSE (Final): {:.3f}\".format(RMSE_test_Ridge_new))"
      ],
      "execution_count": null,
      "outputs": [
        {
          "output_type": "stream",
          "text": [
            "MSE (Final): 5.410\n",
            "RMSE (Final): 2.326\n"
          ],
          "name": "stdout"
        }
      ]
    },
    {
      "cell_type": "code",
      "metadata": {
        "colab": {
          "base_uri": "https://localhost:8080/",
          "height": 296
        },
        "id": "2Pqf4XQraLIF",
        "outputId": "3524f7e8-f55b-4a62-b5ea-0eb4596edf6d"
      },
      "source": [
        "plt.scatter(y_test_new, y_predict_test_new, color = \"red\")\n",
        "p1 = max(max(y_predict_test_new), max(y_test_new))\n",
        "p2 = min(min(y_predict_test_new), min(y_test_new))\n",
        "plt.plot([p1, p2], [p1, p2], color = 'blue')\n",
        "plt.title(\"Test result for Lasso Alpha=2\")\n",
        "plt.xlabel(\"y_test\")\n",
        "plt.ylabel(\"y_predict_test\")\n",
        "plt.show()"
      ],
      "execution_count": null,
      "outputs": [
        {
          "output_type": "display_data",
          "data": {
            "image/png": "[encoded data removed]",
            "text/plain": [
              "<Figure size 432x288 with 1 Axes>"
            ]
          },
          "metadata": {
            "tags": [],
            "needs_background": "light"
          }
        }
      ]
    },
    {
      "cell_type": "markdown",
      "metadata": {
        "id": "VF8_pTJcvwit"
      },
      "source": [
        "# Linear Regression model (optional)"
      ]
    },
    {
      "cell_type": "markdown",
      "metadata": {
        "id": "Rr4AteYaOrtY"
      },
      "source": [
        "Write codes to complete the following tasks:\n",
        "\n",
        "- Use the training set and validation set as the training set for the linear regression model.\n",
        "\n",
        "- Scale the new training set.\n",
        "\n",
        "- Create and train the final model.\n",
        "\n",
        "- Scale the test set.\n",
        "\n",
        "- Calculate and print out $\\text{MSE}$ and $\\text{RMSE}$ when using the final model to test on the test set."
      ]
    },
    {
      "cell_type": "code",
      "metadata": {
        "id": "soVSTuDswD5V",
        "colab": {
          "base_uri": "https://localhost:8080/"
        },
        "outputId": "b9c00cdc-0196-422e-fd3b-aed66db445aa"
      },
      "source": [
        "# Your code\n",
        "X_train, X_test, y_train, y_test = train_test_split(X_car, y_car, test_size = 0.3, random_state = 0)\n",
        "\n",
        "my_LR = LinearRegression()\n",
        "my_LR.fit(X_train, y_train)\n",
        "\n",
        "\n",
        "print(\"Result of Linear Regression:\\n\")\n",
        "print(\"Intercept = {}\\n\".format(my_LR.intercept_))\n",
        "print(\"Coefficients = {}\\n\".format(my_LR.coef_))\n"
      ],
      "execution_count": null,
      "outputs": [
        {
          "output_type": "stream",
          "text": [
            "Result of Linear Regression:\n",
            "\n",
            "Intercept = -23.064221000604913\n",
            "\n",
            "Coefficients = [ 1.87348075  0.01152686 -0.01312608  3.44043172 -3.24293367  0.86017616\n",
            "  0.44103927  1.51229472  5.26551409 -2.13861236]\n",
            "\n"
          ],
          "name": "stdout"
        }
      ]
    },
    {
      "cell_type": "code",
      "metadata": {
        "colab": {
          "base_uri": "https://localhost:8080/"
        },
        "id": "Kldp3OO5uw2b",
        "outputId": "4f87e24f-3300-4357-f998-4bcd3aa3883d"
      },
      "source": [
        "y_predict_test = my_LR.predict(X_test)\n",
        "\n",
        "MSE_test = mean_squared_error(y_test, y_predict_test)\n",
        "RMSE_test = np.sqrt(MSE_test)\n",
        "\n",
        "R2_score_test = my_LR.score(X_test, y_test)\n",
        "\n",
        "\n",
        "print(\"MSE on the test set: {:.3f}\".format(MSE_test))\n",
        "print(\"RMSE on the test set: {:.3f}\".format(RMSE_test))\n",
        "print(\"R2 score on the test set: {:.3f}\".format(R2_score_test))"
      ],
      "execution_count": null,
      "outputs": [
        {
          "output_type": "stream",
          "text": [
            "MSE on the test set: 25.435\n",
            "RMSE on the test set: 5.043\n",
            "R2 score on the test set: -0.344\n"
          ],
          "name": "stdout"
        }
      ]
    }
  ]
}