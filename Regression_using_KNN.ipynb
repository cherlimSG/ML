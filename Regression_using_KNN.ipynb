{
  "nbformat": 4,
  "nbformat_minor": 0,
  "metadata": {
    "colab": {
      "name": "Regression using KNN.ipynb",
      "provenance": [],
      "authorship_tag": "ABX9TyPI+cs/bM8YdnbwnR/OYrxi",
      "include_colab_link": true
    },
    "kernelspec": {
      "name": "python3",
      "display_name": "Python 3"
    },
    "language_info": {
      "name": "python"
    }
  },
  "cells": [
    {
      "cell_type": "markdown",
      "metadata": {
        "id": "view-in-github",
        "colab_type": "text"
      },
      "source": [
        "<a href=\"https://colab.research.google.com/github/cherlimSG/ML/blob/main/Regression_using_KNN.ipynb\" target=\"_parent\"><img src=\"https://colab.research.google.com/assets/colab-badge.svg\" alt=\"Open In Colab\"/></a>"
      ]
    },
    {
      "cell_type": "markdown",
      "source": [
        "#KNN for regression#"
      ],
      "metadata": {
        "id": "VbxgcawByVjZ"
      }
    },
    {
      "cell_type": "code",
      "metadata": {
        "id": "pRHp2xvOlwtK"
      },
      "source": [
        "# Dataset description: 442 diabetes patients\n",
        "# 10 baseline varialbes (features) and 1 outcome (Target)\n",
        "# age, sex, body mass index, blood pressure, 6 blood serum measurements (s1-s6)\n",
        "# Target: A quantitative measure of disease progression 1 year after baseline\n",
        "# Each of these 10 feature variables have been mean centered and scaled by the \n",
        "# standard deviation multipled by n_samples (see below explanation)\n",
        "# i.e. the sum of squares of each column totals 1"
      ],
      "execution_count": null,
      "outputs": []
    },
    {
      "cell_type": "code",
      "metadata": {
        "id": "RbXeuyeRelUY"
      },
      "source": [
        "import numpy as np\n",
        "import matplotlib.pyplot as plt\n",
        "from sklearn import datasets, linear_model \n",
        "from sklearn.metrics import mean_squared_error, r2_score\n",
        "from sklearn.model_selection import train_test_split\n",
        "import sklearn as skl"
      ],
      "execution_count": null,
      "outputs": []
    },
    {
      "cell_type": "markdown",
      "metadata": {
        "id": "JF7mu3i_elUc"
      },
      "source": [
        "# Load the diabetes dataset"
      ]
    },
    {
      "cell_type": "markdown",
      "metadata": {
        "id": "IVyXWcvaelUd"
      },
      "source": [
        "Use `datasets.load_diabetes()` to load data. \n",
        "\n",
        "Refer to the this [link](https://scikit-learn.org/stable/modules/generated/sklearn.datasets.load_diabetes.html#sklearn.datasets.load_diabetes) for more information."
      ]
    },
    {
      "cell_type": "code",
      "metadata": {
        "id": "6KdTmgGDelUe",
        "colab": {
          "base_uri": "https://localhost:8080/"
        },
        "outputId": "8f30f287-a161-43e0-badd-60ae30c8643f"
      },
      "source": [
        " data_diabetes = datasets.load_diabetes(return_X_y = False)\n",
        " print(skl.__version__) # ver 0.22.2 does not support as_frame in loading datasets "
      ],
      "execution_count": null,
      "outputs": [
        {
          "output_type": "stream",
          "text": [
            "0.22.2.post1\n"
          ],
          "name": "stdout"
        }
      ]
    },
    {
      "cell_type": "markdown",
      "metadata": {
        "id": "tAlBWxHlPHnm"
      },
      "source": [
        "Print names of features:"
      ]
    },
    {
      "cell_type": "code",
      "metadata": {
        "id": "laXdWqWbkORj",
        "colab": {
          "base_uri": "https://localhost:8080/"
        },
        "outputId": "bca2653a-6a05-4bb1-9e51-75dedeb2394c"
      },
      "source": [
        "print(data_diabetes.feature_names)"
      ],
      "execution_count": null,
      "outputs": [
        {
          "output_type": "stream",
          "text": [
            "['age', 'sex', 'bmi', 'bp', 's1', 's2', 's3', 's4', 's5', 's6']\n"
          ],
          "name": "stdout"
        }
      ]
    },
    {
      "cell_type": "code",
      "metadata": {
        "id": "Q-oc6iaIj351"
      },
      "source": [
        "X_diabetes, y_diabetes = data_diabetes.data, data_diabetes.target"
      ],
      "execution_count": null,
      "outputs": []
    },
    {
      "cell_type": "markdown",
      "metadata": {
        "id": "6gf81skLfXAW"
      },
      "source": [
        "Let's have more information on this dataset. Can you try to print out the following information\n",
        "\n",
        "- type of `X_diabetes` and its shape\n",
        "- type of `y_diabetes` and its shape\n",
        "\n",
        "Based on the output of `print(data_diabetes.feature_names)`, do you know which column of `X_diabetes` stores 'bmi'?"
      ]
    },
    {
      "cell_type": "code",
      "metadata": {
        "id": "kwdtVpFegzmg",
        "colab": {
          "base_uri": "https://localhost:8080/"
        },
        "outputId": "aeccefb4-e334-49a6-8a6e-5f9d4981b7e4"
      },
      "source": [
        "print(type(X_diabetes), X_diabetes.shape, '\\n')\n",
        "\n",
        "print(type(y_diabetes), y_diabetes.shape)"
      ],
      "execution_count": null,
      "outputs": [
        {
          "output_type": "stream",
          "text": [
            "<class 'numpy.ndarray'> (442, 10) \n",
            "\n",
            "<class 'numpy.ndarray'> (442,)\n"
          ],
          "name": "stdout"
        }
      ]
    },
    {
      "cell_type": "markdown",
      "metadata": {
        "id": "Ji8fZ0YA4z9d"
      },
      "source": [
        "# KNN Regression\n"
      ]
    },
    {
      "cell_type": "markdown",
      "metadata": {
        "id": "fedM6OHV6tUe"
      },
      "source": [
        "## Step1: Prepare data for KNN regression\n",
        "\n",
        "The 3rd column of the dataset is extracted using ``X_diabetes[:, [2]]``. Use ``train_test_split`` to split it into ``X_train`` and "
      ]
    },
    {
      "cell_type": "code",
      "metadata": {
        "id": "VxGtMkqs6s-s"
      },
      "source": [
        "# You can change ``test_size`` \n",
        "# ``test_size = 0.3`` means that the testing data is 30% of the total data (and training data is 70% of the total data)\n",
        "# You can change random_state too. You can omit it. (Each time you run the test set and training set will be different from the last try)\n",
        "# Use just one feature \"bmi\" to predict target.\n",
        "\n",
        "test_size = 0.3\n",
        "\n",
        "X_train, X_test, y_train, y_test = train_test_split(X_diabetes[:, [2]], y_diabetes, test_size = test_size, random_state = 1)"
      ],
      "execution_count": null,
      "outputs": []
    },
    {
      "cell_type": "markdown",
      "metadata": {
        "id": "Hjk3dwpCEH0U"
      },
      "source": [
        "Print sizes of ``X_train`` and ``X_test``."
      ]
    },
    {
      "cell_type": "code",
      "metadata": {
        "id": "J_8V2isvEHQf",
        "colab": {
          "base_uri": "https://localhost:8080/"
        },
        "outputId": "6c48b0cf-e3c5-40a1-bd15-4dd6db7c6682"
      },
      "source": [
        "print(\"X_train shape = \", X_train.shape) # 70% of 442 = 309\n",
        "print(\"X_test shape = \", X_test.shape) # 30% of 442 = 133"
      ],
      "execution_count": null,
      "outputs": [
        {
          "output_type": "stream",
          "text": [
            "X_train shape =  (309, 1)\n",
            "X_test shape =  (133, 1)\n"
          ],
          "name": "stdout"
        }
      ]
    },
    {
      "cell_type": "markdown",
      "metadata": {
        "id": "c6Ad6EpKE47z"
      },
      "source": [
        "## Step 2: Define your model and train it"
      ]
    },
    {
      "cell_type": "code",
      "metadata": {
        "id": "nksqPz60FXao"
      },
      "source": [
        "from sklearn.neighbors import KNeighborsRegressor"
      ],
      "execution_count": null,
      "outputs": []
    },
    {
      "cell_type": "markdown",
      "metadata": {
        "id": "PbYPLl7mFWYA"
      },
      "source": [
        "Create `my_KNN`, set `n_neighbors` to $1$."
      ]
    },
    {
      "cell_type": "code",
      "metadata": {
        "id": "kpvSEY-rEn6T"
      },
      "source": [
        "my_KNN = KNeighborsRegressor(n_neighbors = 1)"
      ],
      "execution_count": null,
      "outputs": []
    },
    {
      "cell_type": "markdown",
      "metadata": {
        "id": "-4Blicd0Fi_e"
      },
      "source": [
        "Training a KNN is just to save the training data!"
      ]
    },
    {
      "cell_type": "code",
      "metadata": {
        "id": "5DLj_qaoFicX",
        "colab": {
          "base_uri": "https://localhost:8080/"
        },
        "outputId": "1fd2d79a-581d-43ae-b248-bd424ef6c26f"
      },
      "source": [
        "my_KNN.fit(X_train, y_train)"
      ],
      "execution_count": null,
      "outputs": [
        {
          "output_type": "execute_result",
          "data": {
            "text/plain": [
              "KNeighborsRegressor(algorithm='auto', leaf_size=30, metric='minkowski',\n",
              "                    metric_params=None, n_jobs=None, n_neighbors=1, p=2,\n",
              "                    weights='uniform')"
            ]
          },
          "metadata": {
            "tags": []
          },
          "execution_count": 19
        }
      ]
    },
    {
      "cell_type": "markdown",
      "metadata": {
        "id": "X2rloAYiE99y"
      },
      "source": [
        "## Step 3: Evaluate your model on testing set"
      ]
    },
    {
      "cell_type": "markdown",
      "metadata": {
        "id": "NLSpLz13Fpx_"
      },
      "source": [
        "Feeding `X_test` to `my_KNN` to have `y_predict_test` and then use `y_test` and `y_predict_test` to have $\\text{MSE}$ and $\\text{RMSE}$."
      ]
    },
    {
      "cell_type": "code",
      "metadata": {
        "id": "tOzWoubzFFjn"
      },
      "source": [
        "y_predict_test = my_KNN.predict(X_test)\n"
      ],
      "execution_count": null,
      "outputs": []
    },
    {
      "cell_type": "code",
      "metadata": {
        "id": "CrWpA8OVGJPF",
        "colab": {
          "base_uri": "https://localhost:8080/"
        },
        "outputId": "c65a829a-b316-429e-e262-382f0d9bf06e"
      },
      "source": [
        "MSE_test = mean_squared_error(y_test, y_predict_test)\n",
        "RMSE_test = np.sqrt(MSE_test)\n",
        "\n",
        "\n",
        "print(\"MSE on the test set = %.2f\" % MSE_test)\n",
        "print(\"RMSE on the test set = %.2f\" % RMSE_test)\n"
      ],
      "execution_count": null,
      "outputs": [
        {
          "output_type": "stream",
          "text": [
            "MSE on the test set = 7283.80\n",
            "RMSE on the test set = 85.35\n"
          ],
          "name": "stdout"
        }
      ]
    },
    {
      "cell_type": "code",
      "metadata": {
        "id": "g8YrvRenTMr2"
      },
      "source": [
        ""
      ],
      "execution_count": null,
      "outputs": []
    },
    {
      "cell_type": "markdown",
      "metadata": {
        "id": "ilaGLGonOg2D"
      },
      "source": [
        "How about $\\text{MSE}$ and $\\text{RMSE}$ on the training set"
      ]
    },
    {
      "cell_type": "code",
      "metadata": {
        "id": "RV49eGpeOmFb",
        "colab": {
          "base_uri": "https://localhost:8080/"
        },
        "outputId": "3fa260de-1bb1-4fb1-a3d7-09e79ac20f01"
      },
      "source": [
        "y_predict_train = my_KNN.predict(X_train)\n",
        "MSE_train = mean_squared_error(y_train, y_predict_train)\n",
        "RMSE_train = np.sqrt(MSE_train)\n",
        "R2_score_train = r2_score(y_train, y_predict_train)\n",
        "\n",
        "print(\"MSE on the training set = %.2f\" % MSE_train)\n",
        "print(\"RMSE on the training set = %.2f\" % RMSE_train)\n",
        "print(\"R2 score on training set = %.2f\" % R2_score_train)"
      ],
      "execution_count": null,
      "outputs": [
        {
          "output_type": "stream",
          "text": [
            "MSE on the training set = 4105.90\n",
            "RMSE on the training set = 64.08\n",
            "R2 score on training set = 0.35\n"
          ],
          "name": "stdout"
        }
      ]
    },
    {
      "cell_type": "markdown",
      "metadata": {
        "id": "vRhVOiZoGdT6"
      },
      "source": [
        "# What is value of n_neighbors you should use?"
      ]
    },
    {
      "cell_type": "markdown",
      "metadata": {
        "id": "TSXwMw16cwSj"
      },
      "source": [
        "##Optimizing the model##\n",
        "\n",
        "When we define our KNN regressor: ``my_KNN = neighbors.KNeighborsRegressor(n_neighbors = 1)`` we set ``n_neighbors`` to $1$. Clearly, this can be changed. Let's see which value of ``n_neighbors`` is good!"
      ]
    },
    {
      "cell_type": "markdown",
      "metadata": {
        "id": "A2oWtEySICnJ"
      },
      "source": [
        "## Training / Validation / Test sets"
      ]
    },
    {
      "cell_type": "markdown",
      "metadata": {
        "id": "ywcWq3PPIOtp"
      },
      "source": [
        "Divide our dataset into three parts:\n",
        "- Training set\n",
        "\n",
        "- Validation set\n",
        "\n",
        "- Test set\n",
        "\n",
        "The size of each part depends on your choice. However, 60%, 20$ and 20% can be a good choice."
      ]
    },
    {
      "cell_type": "markdown",
      "metadata": {
        "id": "FBIwNXD_IoYx"
      },
      "source": [
        "#### Activity 1: Divide the dataset into three parts."
      ]
    },
    {
      "cell_type": "code",
      "metadata": {
        "id": "ALhJQwLNIt2y"
      },
      "source": [
        "# Your code\n",
        "# First step: divide it into 80% and 20% \n",
        "#X_train, X_test, y_train, y_test = train_test_split(X_diabetes[:, [2]], y_diabetes, test_size = test_size, random_state = 1)\n",
        "\n",
        "X_train_val, X_test, y_train_val, y_test = train_test_split(X_diabetes[:, [2]], y_diabetes, test_size = 0.2, random_state = 1)"
      ],
      "execution_count": null,
      "outputs": []
    },
    {
      "cell_type": "code",
      "metadata": {
        "id": "smuIozpjKTmE"
      },
      "source": [
        "# Then, divide the 80% portion into \n",
        "# - training set\n",
        "# - test set: 20% of the original set ==> 25% of this 80% portion\n",
        "\n",
        "X_train, X_val, y_train, y_val = train_test_split(X_train_val, y_train_val, test_size = 0.2, random_state = 1)"
      ],
      "execution_count": null,
      "outputs": []
    },
    {
      "cell_type": "markdown",
      "metadata": {
        "id": "-vtC-RRyLMqZ"
      },
      "source": [
        "## Searching for the best `n_neighbors`."
      ]
    },
    {
      "cell_type": "markdown",
      "metadata": {
        "id": "3phSdmV3LSDJ"
      },
      "source": [
        "###Activity 2: Write a function called `get_mse`\n",
        "\n",
        "Inputs:\n",
        "\n",
        "- `X_train`, `y_train`, `X_val`, `y_val`, and\n",
        "- `n_neighbors`\n",
        "\n",
        "Ouput:\n",
        "- `train_mse`: $\\text{MSE}$ on the training set\n",
        "-`val_mse`: $\\text{MSE}$ on the validation set"
      ]
    },
    {
      "cell_type": "code",
      "metadata": {
        "id": "GWJI3Hm5HGxK"
      },
      "source": [
        "# Your code\n",
        "\n",
        "def get_mse(X_train, y_train, X_val, y_val, n_neighbors):\n",
        "\n",
        "  # Define your KNN regressor and train it with n_neighbors\n",
        "  my_KNN = KNeighborsRegressor(n_neighbors = n_neighbors)\n",
        "  my_KNN.fit(X_train, y_train)\n",
        "\n",
        "  # determine MSE on training set\n",
        "  y_predict_train = my_KNN.predict(X_train)\n",
        "  train_mse = mean_squared_error(y_train, y_predict_train)\n",
        "\n",
        "  # determine MSE on testing set\n",
        "  y_predict_val = my_KNN.predict(X_val)\n",
        "  val_mse = mean_squared_error(y_val, y_predict_val)\n",
        "  \n",
        "\n",
        "  return train_mse, val_mse "
      ],
      "execution_count": null,
      "outputs": []
    },
    {
      "cell_type": "markdown",
      "metadata": {
        "id": "Lq1ddnFof4d0"
      },
      "source": [
        "###Activity 3: Use `get_mse()` to get `train_mse` and `val_mse` for an array of `n_neighbors`."
      ]
    },
    {
      "cell_type": "markdown",
      "metadata": {
        "id": "HYeT5XNwe3qw"
      },
      "source": [
        "Make use of the function ``get_mse`` to get $\\text{MSE}$'s for ``n_neighbors`` from $1$ to $80$."
      ]
    },
    {
      "cell_type": "code",
      "metadata": {
        "id": "TL_XdRg-e13Q"
      },
      "source": [
        "# Your code\n",
        "train_mse_array = []\n",
        "val_mse_array = []\n",
        "\n",
        "neighbors_array = range(1,81)\n",
        "\n",
        "for n in neighbors_array:\n",
        "  temp = get_mse(X_train, y_train, X_val, y_val, n)\n",
        "\n",
        "  train_mse_array.append(temp[0])\n",
        "\n",
        "  val_mse_array.append(temp[1])"
      ],
      "execution_count": null,
      "outputs": []
    },
    {
      "cell_type": "markdown",
      "metadata": {
        "id": "obHeaWi4OvMH"
      },
      "source": [
        "###Activity 4: Plot `train_mse_array` and `val_mse_array`. Choose the best `n_neighbors`."
      ]
    },
    {
      "cell_type": "code",
      "metadata": {
        "id": "UOiCibPDgUVc",
        "colab": {
          "base_uri": "https://localhost:8080/",
          "height": 551
        },
        "outputId": "875564ff-abb6-48ea-cc4c-986a06dadafc"
      },
      "source": [
        "plt.figure(figsize = (11, 9))\n",
        "\n",
        "plt.plot(neighbors_array, train_mse_array, color = 'blue', label = \"MSE on the training set\")\n",
        "plt.plot(neighbors_array, val_mse_array, color = 'red', label = \"MSE on the validation set\")\n",
        "\n",
        "plt.legend() # to show legends\n",
        "plt.xlabel('Neighbor(s)')\n",
        "plt.ylabel('MSE')\n",
        "plt.grid()\n",
        "plt.show()\n"
      ],
      "execution_count": null,
      "outputs": [
        {
          "output_type": "display_data",
          "data": {
            "image/png": "[encoded data removed]",
            "text/plain": [
              "<Figure size 792x648 with 1 Axes>"
            ]
          },
          "metadata": {
            "tags": [],
            "needs_background": "light"
          }
        }
      ]
    },
    {
      "cell_type": "markdown",
      "metadata": {
        "id": "GkPoPn2GrTlf"
      },
      "source": [
        "###Activity 5: What is the best number of neighbors?"
      ]
    },
    {
      "cell_type": "markdown",
      "metadata": {
        "id": "Baje2WTAPujV"
      },
      "source": [
        "Your answer: 40"
      ]
    },
    {
      "cell_type": "markdown",
      "metadata": {
        "id": "EI3hwHRDrflF"
      },
      "source": [
        "## What is your final model?"
      ]
    },
    {
      "cell_type": "markdown",
      "metadata": {
        "id": "FpxoHpldrndz"
      },
      "source": [
        "You have divided your available data into three parts and search for the best number of neighbors in KNN regression. You have used the training set and validation set. Up to ths point you may ask:\n",
        "\n",
        "1) What is your final model?\n",
        "\n",
        "2) How do you use the test set?"
      ]
    },
    {
      "cell_type": "markdown",
      "metadata": {
        "id": "BjyRBbqXs21o"
      },
      "source": [
        "The answers are:\n",
        "\n",
        "1) Use the training set AND the validation set to have the final model (with the best number of neighbors we found above).\n",
        "\n",
        "2) Use the final model and test it on the test set. The result of this step is the final verdict on your design."
      ]
    },
    {
      "cell_type": "markdown",
      "metadata": {
        "id": "GbRutoATtY13"
      },
      "source": [
        "####Actitity 5: Final model and its performance on the test set."
      ]
    },
    {
      "cell_type": "code",
      "metadata": {
        "id": "FWH9OghRtnQ6",
        "colab": {
          "base_uri": "https://localhost:8080/"
        },
        "outputId": "e0e0f24f-41d0-4235-8941-b59ee19cde97"
      },
      "source": [
        "# Create your final model\n",
        "my_KNN_Final = KNeighborsRegressor(n_neighbors = 40)\n",
        "\n",
        "# Train it\n",
        "my_KNN_Final.fit(X_train, y_train)\n",
        "\n",
        "# Test it on the test set\n",
        "y_predict_test = my_KNN_Final.predict(X_test)\n",
        "\n",
        "MSE_test = mean_squared_error(y_test, y_predict_test)\n",
        "RMSE_test = np.sqrt(MSE_test)\n",
        "\n",
        "print(\"MSE (final model) on the test set = %.2f\" % MSE_test)\n",
        "print(\"RMSE (final model) on the test set = %.2f\" % RMSE_test)"
      ],
      "execution_count": null,
      "outputs": [
        {
          "output_type": "stream",
          "text": [
            "MSE (final model) on the test set = 4091.47\n",
            "RMSE (final model) on the test set = 63.96\n"
          ],
          "name": "stdout"
        }
      ]
    },
    {
      "cell_type": "markdown",
      "metadata": {
        "id": "kC5R1n-RHzZW"
      },
      "source": [
        "# Exploring the dataset "
      ]
    },
    {
      "cell_type": "code",
      "metadata": {
        "colab": {
          "base_uri": "https://localhost:8080/",
          "height": 521
        },
        "id": "rVpq0vzsFJ_1",
        "outputId": "ec51518f-0654-4a7a-c5f2-49541d1f5b1d"
      },
      "source": [
        "#Exploring the dataset \n",
        "# Calculate correlation coefficients of features \n",
        "#Convert dataset into dataframe\n",
        "\n",
        "import pandas as pd\n",
        "import seaborn as sns\n",
        "diab = datasets.load_diabetes()\n",
        "diab_frame = pd.DataFrame(data=diab.data, columns=diab.feature_names)\n",
        "diab_frame[\"Target\"] = diab.target\n",
        "#print(diab_frame.columns)\n",
        "#print(diab_frame.head())\n",
        "\n",
        "corr = diab_frame.corr()\n",
        "print(corr[corr>0.5]) #filter to see the high corr pairs\n",
        "#Results: Corr > 0.5 = Target-BMI; Target-s5; s4-s1; s4-s2; s4-s5; s5-s1)\n",
        "sns.heatmap(corr, xticklabels=corr.columns, yticklabels=corr.columns)"
      ],
      "execution_count": null,
      "outputs": [
        {
          "output_type": "stream",
          "text": [
            "        age  sex      bmi   bp  ...        s4        s5   s6    Target\n",
            "age     1.0  NaN      NaN  NaN  ...       NaN       NaN  NaN       NaN\n",
            "sex     NaN  1.0      NaN  NaN  ...       NaN       NaN  NaN       NaN\n",
            "bmi     NaN  NaN  1.00000  NaN  ...       NaN       NaN  NaN  0.586450\n",
            "bp      NaN  NaN      NaN  1.0  ...       NaN       NaN  NaN       NaN\n",
            "s1      NaN  NaN      NaN  NaN  ...  0.542207  0.515501  NaN       NaN\n",
            "s2      NaN  NaN      NaN  NaN  ...  0.659817       NaN  NaN       NaN\n",
            "s3      NaN  NaN      NaN  NaN  ...       NaN       NaN  NaN       NaN\n",
            "s4      NaN  NaN      NaN  NaN  ...  1.000000  0.617857  NaN       NaN\n",
            "s5      NaN  NaN      NaN  NaN  ...  0.617857  1.000000  NaN  0.565883\n",
            "s6      NaN  NaN      NaN  NaN  ...       NaN       NaN  1.0       NaN\n",
            "Target  NaN  NaN  0.58645  NaN  ...       NaN  0.565883  NaN  1.000000\n",
            "\n",
            "[11 rows x 11 columns]\n"
          ],
          "name": "stdout"
        },
        {
          "output_type": "execute_result",
          "data": {
            "text/plain": [
              "<matplotlib.axes._subplots.AxesSubplot at 0x7f3c522f0650>"
            ]
          },
          "metadata": {
            "tags": []
          },
          "execution_count": 10
        },
        {
          "output_type": "display_data",
          "data": {
            "image/png": "[encoded data removed]",
            "text/plain": [
              "<Figure size 432x288 with 2 Axes>"
            ]
          },
          "metadata": {
            "tags": [],
            "needs_background": "light"
          }
        }
      ]
    },
    {
      "cell_type": "markdown",
      "metadata": {
        "id": "aAjqIMheIEKK"
      },
      "source": [
        "# Corr > 0.5: Target-bmi; Target-s5; Dependency observed: s1-s4; s1-s5; s2-s4; s4-s5;"
      ]
    },
    {
      "cell_type": "markdown",
      "metadata": {
        "id": "PVz8Dz7yI-ux"
      },
      "source": [
        "# Compare results: Search for best neighbours between X_train_val and X_test"
      ]
    },
    {
      "cell_type": "code",
      "metadata": {
        "colab": {
          "base_uri": "https://localhost:8080/",
          "height": 551
        },
        "id": "9PJP3nHIPKY8",
        "outputId": "cc17e12a-b4b1-4bb6-e29a-c7dba5ee7f1e"
      },
      "source": [
        "# Your code\n",
        "train_val_mse_array = []\n",
        "test_mse_array = []\n",
        "\n",
        "neighbors_array = range(1,81)\n",
        "\n",
        "for n in neighbors_array:\n",
        "  temp = get_mse(X_train_val, y_train_val, X_test, y_test, n)\n",
        "\n",
        "  train_val_mse_array.append(temp[0])\n",
        "\n",
        "  test_mse_array.append(temp[1])\n",
        "\n",
        "plt.figure(figsize = (11, 9))\n",
        "\n",
        "plt.plot(neighbors_array, train_val_mse_array, color = 'blue', label = \"MSE on the training validation set\")\n",
        "plt.plot(neighbors_array, test_mse_array, color = 'red', label = \"MSE on the test set\")\n",
        "\n",
        "plt.legend() # to show legends\n",
        "plt.xlabel('Neighbor(s)')\n",
        "plt.ylabel('MSE')\n",
        "plt.grid()\n",
        "plt.show()\n",
        "\n"
      ],
      "execution_count": null,
      "outputs": [
        {
          "output_type": "display_data",
          "data": {
            "image/png": "[encoded data removed]",
            "text/plain": [
              "<Figure size 792x648 with 1 Axes>"
            ]
          },
          "metadata": {
            "tags": [],
            "needs_background": "light"
          }
        }
      ]
    },
    {
      "cell_type": "code",
      "metadata": {
        "colab": {
          "base_uri": "https://localhost:8080/"
        },
        "id": "2MUzxeUvRvjL",
        "outputId": "e7325738-096a-4af5-e75e-4bed378d0865"
      },
      "source": [
        "# Create your final model\n",
        "my_KNN_Final = KNeighborsRegressor(n_neighbors = 44)\n",
        "\n",
        "# Train it\n",
        "my_KNN_Final.fit(X_train_val, y_train_val)\n",
        "\n",
        "# Test it on the test set\n",
        "y_predict_test = my_KNN_Final.predict(X_test)\n",
        "\n",
        "MSE_test = mean_squared_error(y_test, y_predict_test)\n",
        "RMSE_test = np.sqrt(MSE_test)\n",
        "\n",
        "print(\"MSE (final model) on the test set = %.2f\" % MSE_test)\n",
        "print(\"RMSE (final model) on the test set = %.2f\" % RMSE_test)"
      ],
      "execution_count": null,
      "outputs": [
        {
          "output_type": "stream",
          "text": [
            "MSE (final model) on the test set = 4112.43\n",
            "RMSE (final model) on the test set = 64.13\n"
          ],
          "name": "stdout"
        }
      ]
    }
  ]
}