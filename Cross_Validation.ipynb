{
  "nbformat": 4,
  "nbformat_minor": 0,
  "metadata": {
    "colab": {
      "name": "Cross Validation.ipynb",
      "provenance": [],
      "authorship_tag": "ABX9TyMBuyPFS5V1fKPYBX6Ov3ZY",
      "include_colab_link": true
    },
    "kernelspec": {
      "name": "python3",
      "display_name": "Python 3"
    },
    "language_info": {
      "name": "python"
    }
  },
  "cells": [
    {
      "cell_type": "markdown",
      "metadata": {
        "id": "view-in-github",
        "colab_type": "text"
      },
      "source": [
        "<a href=\"https://colab.research.google.com/github/cherlimSG/ML/blob/main/Cross_Validation.ipynb\" target=\"_parent\"><img src=\"https://colab.research.google.com/assets/colab-badge.svg\" alt=\"Open In Colab\"/></a>"
      ]
    },
    {
      "cell_type": "code",
      "metadata": {
        "id": "YxJ3I-g9PMdd"
      },
      "source": [
        "import pandas as pd\n",
        "import numpy as np\n",
        "import sklearn.linear_model as skl_lm\n",
        "import matplotlib.pyplot as plt\n",
        "\n",
        "from sklearn.linear_model import LinearRegression\n",
        "from sklearn.preprocessing import PolynomialFeatures\n",
        "\n",
        "from sklearn.model_selection import KFold\n",
        "from sklearn.model_selection import train_test_split\n",
        "from sklearn.model_selection import cross_val_score\n",
        "from sklearn.metrics import mean_squared_error, r2_score"
      ],
      "execution_count": null,
      "outputs": []
    },
    {
      "cell_type": "markdown",
      "metadata": {
        "id": "WSZfOL4hPMdc"
      },
      "source": [
        "# Upload a file: Auto.csv"
      ]
    },
    {
      "cell_type": "code",
      "metadata": {
        "id": "H7p3NHd1Uv_G",
        "colab": {
          "resources": {
            "http://localhost:8080/nbextensions/google.colab/files.js": {
              "data": "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",
              "ok": true,
              "headers": [
                [
                  "content-type",
                  "application/javascript"
                ]
              ],
              "status": 200,
              "status_text": ""
            }
          },
          "base_uri": "https://localhost:8080/",
          "height": 73
        },
        "outputId": "559caa85-4b27-4bc1-ae41-53f913f659b1"
      },
      "source": [
        "#from google.colab import files\n",
        "#uploaded = files.upload()"
      ],
      "execution_count": null,
      "outputs": [
        {
          "output_type": "display_data",
          "data": {
            "text/html": [
              "\n",
              "     <input type=\"file\" id=\"files-1d738a38-f60e-4259-a0e5-b9fbd7e73de0\" name=\"files[]\" multiple disabled\n",
              "        style=\"border:none\" />\n",
              "     <output id=\"result-1d738a38-f60e-4259-a0e5-b9fbd7e73de0\">\n",
              "      Upload widget is only available when the cell has been executed in the\n",
              "      current browser session. Please rerun this cell to enable.\n",
              "      </output>\n",
              "      <script src=\"/nbextensions/google.colab/files.js\"></script> "
            ],
            "text/plain": [
              "<IPython.core.display.HTML object>"
            ]
          },
          "metadata": {
            "tags": []
          }
        },
        {
          "output_type": "stream",
          "text": [
            "Saving Auto.csv to Auto (1).csv\n"
          ],
          "name": "stdout"
        }
      ]
    },
    {
      "cell_type": "markdown",
      "metadata": {
        "id": "IDKxkGahPMdi"
      },
      "source": [
        "# Part 1: Data preparation"
      ]
    },
    {
      "cell_type": "code",
      "metadata": {
        "id": "j4ZZVD5fVWRy",
        "colab": {
          "base_uri": "https://localhost:8080/",
          "height": 195
        },
        "outputId": "e6640274-6536-4d3c-ad1b-e040dec2777e"
      },
      "source": [
        "url = 'https://raw.githubusercontent.com/cherlim/NP/main/Auto.csv'\n",
        "auto_df = pd.read_csv(url)\n",
        "auto_df.head()"
      ],
      "execution_count": null,
      "outputs": [
        {
          "output_type": "execute_result",
          "data": {
            "text/html": [
              "<div>\n",
              "<style scoped>\n",
              "    .dataframe tbody tr th:only-of-type {\n",
              "        vertical-align: middle;\n",
              "    }\n",
              "\n",
              "    .dataframe tbody tr th {\n",
              "        vertical-align: top;\n",
              "    }\n",
              "\n",
              "    .dataframe thead th {\n",
              "        text-align: right;\n",
              "    }\n",
              "</style>\n",
              "<table border=\"1\" class=\"dataframe\">\n",
              "  <thead>\n",
              "    <tr style=\"text-align: right;\">\n",
              "      <th></th>\n",
              "      <th>mpg</th>\n",
              "      <th>cylinders</th>\n",
              "      <th>displacement</th>\n",
              "      <th>horsepower</th>\n",
              "      <th>weight</th>\n",
              "      <th>acceleration</th>\n",
              "      <th>year</th>\n",
              "      <th>origin</th>\n",
              "      <th>name</th>\n",
              "    </tr>\n",
              "  </thead>\n",
              "  <tbody>\n",
              "    <tr>\n",
              "      <th>0</th>\n",
              "      <td>18.0</td>\n",
              "      <td>8</td>\n",
              "      <td>307.0</td>\n",
              "      <td>130</td>\n",
              "      <td>3504</td>\n",
              "      <td>12.0</td>\n",
              "      <td>70</td>\n",
              "      <td>1</td>\n",
              "      <td>chevrolet chevelle malibu</td>\n",
              "    </tr>\n",
              "    <tr>\n",
              "      <th>1</th>\n",
              "      <td>15.0</td>\n",
              "      <td>8</td>\n",
              "      <td>350.0</td>\n",
              "      <td>165</td>\n",
              "      <td>3693</td>\n",
              "      <td>11.5</td>\n",
              "      <td>70</td>\n",
              "      <td>1</td>\n",
              "      <td>buick skylark 320</td>\n",
              "    </tr>\n",
              "    <tr>\n",
              "      <th>2</th>\n",
              "      <td>18.0</td>\n",
              "      <td>8</td>\n",
              "      <td>318.0</td>\n",
              "      <td>150</td>\n",
              "      <td>3436</td>\n",
              "      <td>11.0</td>\n",
              "      <td>70</td>\n",
              "      <td>1</td>\n",
              "      <td>plymouth satellite</td>\n",
              "    </tr>\n",
              "    <tr>\n",
              "      <th>3</th>\n",
              "      <td>16.0</td>\n",
              "      <td>8</td>\n",
              "      <td>304.0</td>\n",
              "      <td>150</td>\n",
              "      <td>3433</td>\n",
              "      <td>12.0</td>\n",
              "      <td>70</td>\n",
              "      <td>1</td>\n",
              "      <td>amc rebel sst</td>\n",
              "    </tr>\n",
              "    <tr>\n",
              "      <th>4</th>\n",
              "      <td>17.0</td>\n",
              "      <td>8</td>\n",
              "      <td>302.0</td>\n",
              "      <td>140</td>\n",
              "      <td>3449</td>\n",
              "      <td>10.5</td>\n",
              "      <td>70</td>\n",
              "      <td>1</td>\n",
              "      <td>ford torino</td>\n",
              "    </tr>\n",
              "  </tbody>\n",
              "</table>\n",
              "</div>"
            ],
            "text/plain": [
              "    mpg  cylinders  displacement  ... year  origin                       name\n",
              "0  18.0          8         307.0  ...   70       1  chevrolet chevelle malibu\n",
              "1  15.0          8         350.0  ...   70       1          buick skylark 320\n",
              "2  18.0          8         318.0  ...   70       1         plymouth satellite\n",
              "3  16.0          8         304.0  ...   70       1              amc rebel sst\n",
              "4  17.0          8         302.0  ...   70       1                ford torino\n",
              "\n",
              "[5 rows x 9 columns]"
            ]
          },
          "metadata": {
            "tags": []
          },
          "execution_count": 2
        }
      ]
    },
    {
      "cell_type": "markdown",
      "metadata": {
        "id": "HuywM41EW48e"
      },
      "source": [
        "There are a few ``?`` in ``horsepower`` column. We can easily check by\n",
        "\n",
        "- comparing that column with ``?`` (the results are True/False)\n",
        "\n",
        "- summing the result "
      ]
    },
    {
      "cell_type": "code",
      "metadata": {
        "id": "mWanBn_PWrN2",
        "colab": {
          "base_uri": "https://localhost:8080/"
        },
        "outputId": "23268670-4fb9-402c-8e81-f231e8864a4a"
      },
      "source": [
        "print('Number of ? in horsepower = ', sum(auto_df['horsepower']=='?'))"
      ],
      "execution_count": null,
      "outputs": [
        {
          "output_type": "stream",
          "text": [
            "Number of ? in horsepower =  5\n"
          ],
          "name": "stdout"
        }
      ]
    },
    {
      "cell_type": "markdown",
      "metadata": {
        "id": "jhJxiTVgXdBl"
      },
      "source": [
        "We can drop rows that have ``?``. The below line overwrites ``auto_df``"
      ]
    },
    {
      "cell_type": "code",
      "metadata": {
        "id": "q5_AvMUsPMdj"
      },
      "source": [
        "auto_df = pd.read_csv(url, na_values = '?').dropna()"
      ],
      "execution_count": null,
      "outputs": []
    },
    {
      "cell_type": "markdown",
      "metadata": {
        "id": "CPQbVL0TY5K-"
      },
      "source": [
        "This line is very useful to give overview of a data frame."
      ]
    },
    {
      "cell_type": "code",
      "metadata": {
        "id": "tBM5g3uGY4S8",
        "colab": {
          "base_uri": "https://localhost:8080/"
        },
        "outputId": "cc300f49-359f-448c-a598-3c50c672e089"
      },
      "source": [
        "auto_df.info()"
      ],
      "execution_count": null,
      "outputs": [
        {
          "output_type": "stream",
          "text": [
            "<class 'pandas.core.frame.DataFrame'>\n",
            "Int64Index: 392 entries, 0 to 396\n",
            "Data columns (total 9 columns):\n",
            " #   Column        Non-Null Count  Dtype  \n",
            "---  ------        --------------  -----  \n",
            " 0   mpg           392 non-null    float64\n",
            " 1   cylinders     392 non-null    int64  \n",
            " 2   displacement  392 non-null    float64\n",
            " 3   horsepower    392 non-null    float64\n",
            " 4   weight        392 non-null    int64  \n",
            " 5   acceleration  392 non-null    float64\n",
            " 6   year          392 non-null    int64  \n",
            " 7   origin        392 non-null    int64  \n",
            " 8   name          392 non-null    object \n",
            "dtypes: float64(4), int64(4), object(1)\n",
            "memory usage: 30.6+ KB\n"
          ],
          "name": "stdout"
        }
      ]
    },
    {
      "cell_type": "markdown",
      "metadata": {
        "id": "czTR_Zy6fZ3P"
      },
      "source": [
        "Extract the target (``mpg`` column) and the variable (``horsepower``)."
      ]
    },
    {
      "cell_type": "code",
      "metadata": {
        "id": "bbZY1XYCZxXu"
      },
      "source": [
        "X = auto_df['horsepower']\n",
        "y = auto_df['mpg']"
      ],
      "execution_count": null,
      "outputs": []
    },
    {
      "cell_type": "markdown",
      "metadata": {
        "id": "P7skNBs15lTW"
      },
      "source": [
        "If we want more columns for X, do you know how to extract the columns?\n",
        "Example below extract data from column 2 to 5"
      ]
    },
    {
      "cell_type": "code",
      "metadata": {
        "colab": {
          "base_uri": "https://localhost:8080/",
          "height": 402
        },
        "id": "qfGTMKyOVG8S",
        "outputId": "f68872dc-6bcb-4bdc-b1c4-fc71cb0888ee"
      },
      "source": [
        "Xcols = auto_df.iloc[:, 2:6]\n",
        "Xcols"
      ],
      "execution_count": null,
      "outputs": [
        {
          "output_type": "execute_result",
          "data": {
            "text/html": [
              "<div>\n",
              "<style scoped>\n",
              "    .dataframe tbody tr th:only-of-type {\n",
              "        vertical-align: middle;\n",
              "    }\n",
              "\n",
              "    .dataframe tbody tr th {\n",
              "        vertical-align: top;\n",
              "    }\n",
              "\n",
              "    .dataframe thead th {\n",
              "        text-align: right;\n",
              "    }\n",
              "</style>\n",
              "<table border=\"1\" class=\"dataframe\">\n",
              "  <thead>\n",
              "    <tr style=\"text-align: right;\">\n",
              "      <th></th>\n",
              "      <th>displacement</th>\n",
              "      <th>horsepower</th>\n",
              "      <th>weight</th>\n",
              "      <th>acceleration</th>\n",
              "    </tr>\n",
              "  </thead>\n",
              "  <tbody>\n",
              "    <tr>\n",
              "      <th>0</th>\n",
              "      <td>307.0</td>\n",
              "      <td>130.0</td>\n",
              "      <td>3504</td>\n",
              "      <td>12.0</td>\n",
              "    </tr>\n",
              "    <tr>\n",
              "      <th>1</th>\n",
              "      <td>350.0</td>\n",
              "      <td>165.0</td>\n",
              "      <td>3693</td>\n",
              "      <td>11.5</td>\n",
              "    </tr>\n",
              "    <tr>\n",
              "      <th>2</th>\n",
              "      <td>318.0</td>\n",
              "      <td>150.0</td>\n",
              "      <td>3436</td>\n",
              "      <td>11.0</td>\n",
              "    </tr>\n",
              "    <tr>\n",
              "      <th>3</th>\n",
              "      <td>304.0</td>\n",
              "      <td>150.0</td>\n",
              "      <td>3433</td>\n",
              "      <td>12.0</td>\n",
              "    </tr>\n",
              "    <tr>\n",
              "      <th>4</th>\n",
              "      <td>302.0</td>\n",
              "      <td>140.0</td>\n",
              "      <td>3449</td>\n",
              "      <td>10.5</td>\n",
              "    </tr>\n",
              "    <tr>\n",
              "      <th>...</th>\n",
              "      <td>...</td>\n",
              "      <td>...</td>\n",
              "      <td>...</td>\n",
              "      <td>...</td>\n",
              "    </tr>\n",
              "    <tr>\n",
              "      <th>392</th>\n",
              "      <td>140.0</td>\n",
              "      <td>86.0</td>\n",
              "      <td>2790</td>\n",
              "      <td>15.6</td>\n",
              "    </tr>\n",
              "    <tr>\n",
              "      <th>393</th>\n",
              "      <td>97.0</td>\n",
              "      <td>52.0</td>\n",
              "      <td>2130</td>\n",
              "      <td>24.6</td>\n",
              "    </tr>\n",
              "    <tr>\n",
              "      <th>394</th>\n",
              "      <td>135.0</td>\n",
              "      <td>84.0</td>\n",
              "      <td>2295</td>\n",
              "      <td>11.6</td>\n",
              "    </tr>\n",
              "    <tr>\n",
              "      <th>395</th>\n",
              "      <td>120.0</td>\n",
              "      <td>79.0</td>\n",
              "      <td>2625</td>\n",
              "      <td>18.6</td>\n",
              "    </tr>\n",
              "    <tr>\n",
              "      <th>396</th>\n",
              "      <td>119.0</td>\n",
              "      <td>82.0</td>\n",
              "      <td>2720</td>\n",
              "      <td>19.4</td>\n",
              "    </tr>\n",
              "  </tbody>\n",
              "</table>\n",
              "<p>392 rows × 4 columns</p>\n",
              "</div>"
            ],
            "text/plain": [
              "     displacement  horsepower  weight  acceleration\n",
              "0           307.0       130.0    3504          12.0\n",
              "1           350.0       165.0    3693          11.5\n",
              "2           318.0       150.0    3436          11.0\n",
              "3           304.0       150.0    3433          12.0\n",
              "4           302.0       140.0    3449          10.5\n",
              "..            ...         ...     ...           ...\n",
              "392         140.0        86.0    2790          15.6\n",
              "393          97.0        52.0    2130          24.6\n",
              "394         135.0        84.0    2295          11.6\n",
              "395         120.0        79.0    2625          18.6\n",
              "396         119.0        82.0    2720          19.4\n",
              "\n",
              "[392 rows x 4 columns]"
            ]
          },
          "metadata": {
            "tags": []
          },
          "execution_count": 7
        }
      ]
    },
    {
      "cell_type": "markdown",
      "metadata": {
        "id": "ZYMtxkfatgov"
      },
      "source": [
        "Let's print out ``X`` and ``y``."
      ]
    },
    {
      "cell_type": "code",
      "metadata": {
        "id": "psKv9e03tNRw",
        "colab": {
          "base_uri": "https://localhost:8080/"
        },
        "outputId": "95a5b163-1b47-4ba5-b557-255d7554f763"
      },
      "source": [
        "# Print out the first 5 rows of X and y\n",
        "\n",
        "print(X.head)\n",
        "print(y.head)\n",
        "\n",
        "print(type(X), type(y))"
      ],
      "execution_count": null,
      "outputs": [
        {
          "output_type": "stream",
          "text": [
            "<bound method NDFrame.head of 0      130.0\n",
            "1      165.0\n",
            "2      150.0\n",
            "3      150.0\n",
            "4      140.0\n",
            "       ...  \n",
            "392     86.0\n",
            "393     52.0\n",
            "394     84.0\n",
            "395     79.0\n",
            "396     82.0\n",
            "Name: horsepower, Length: 392, dtype: float64>\n",
            "<bound method NDFrame.head of 0      18.0\n",
            "1      15.0\n",
            "2      18.0\n",
            "3      16.0\n",
            "4      17.0\n",
            "       ... \n",
            "392    27.0\n",
            "393    44.0\n",
            "394    32.0\n",
            "395    28.0\n",
            "396    31.0\n",
            "Name: mpg, Length: 392, dtype: float64>\n",
            "<class 'pandas.core.series.Series'> <class 'pandas.core.series.Series'>\n"
          ],
          "name": "stdout"
        }
      ]
    },
    {
      "cell_type": "code",
      "metadata": {
        "id": "d9p1Dmdcs5ja",
        "colab": {
          "base_uri": "https://localhost:8080/"
        },
        "outputId": "2b65b0bb-27f1-45c7-8d3f-d8d6532efcae"
      },
      "source": [
        "# Print out the size or shape of X and y\n",
        "\n",
        "print(X.shape)\n",
        "print(y.shape)"
      ],
      "execution_count": null,
      "outputs": [
        {
          "output_type": "stream",
          "text": [
            "(392,)\n",
            "(392,)\n"
          ],
          "name": "stdout"
        }
      ]
    },
    {
      "cell_type": "markdown",
      "metadata": {
        "id": "hwPildyI3pyj"
      },
      "source": [
        "### What is the number of rows and columns for our features and target?\n",
        "\n",
        "Answer: X: 392 rows, 1 column; Y: 392 rows, 1 column"
      ]
    },
    {
      "cell_type": "markdown",
      "metadata": {
        "id": "7kijq5CT35xC"
      },
      "source": [
        "### Reshape X\n",
        "\n",
        "We have to reshape X because X is single row or 1 rows by m columns. LinearRegression( ) needs X to be in n rows by m column.\n",
        "\n",
        "This is because we have chosen only the column \"horsepower\" for our X features.\n",
        "If we have chose more, we do not need to reshape"
      ]
    },
    {
      "cell_type": "code",
      "metadata": {
        "id": "i-mYdjJJtKoe",
        "colab": {
          "base_uri": "https://localhost:8080/"
        },
        "outputId": "3e83c3a7-c004-4a67-9ef2-a05b2fb531f3"
      },
      "source": [
        "X = X.values\n",
        "print(type(X))\n",
        "X = X.reshape(-1,1)\n",
        "print(type(X))"
      ],
      "execution_count": null,
      "outputs": [
        {
          "output_type": "stream",
          "text": [
            "<class 'numpy.ndarray'>\n",
            "<class 'numpy.ndarray'>\n"
          ],
          "name": "stdout"
        }
      ]
    },
    {
      "cell_type": "code",
      "metadata": {
        "colab": {
          "base_uri": "https://localhost:8080/"
        },
        "id": "rDDJA0aUeHXF",
        "outputId": "af1ca06c-e93c-4aee-ff8b-195ebc5c3158"
      },
      "source": [
        "print(X[0:5])"
      ],
      "execution_count": null,
      "outputs": [
        {
          "output_type": "stream",
          "text": [
            "[[130.]\n",
            " [165.]\n",
            " [150.]\n",
            " [150.]\n",
            " [140.]]\n"
          ],
          "name": "stdout"
        }
      ]
    },
    {
      "cell_type": "code",
      "metadata": {
        "colab": {
          "base_uri": "https://localhost:8080/"
        },
        "id": "irnFEj_Je615",
        "outputId": "8679e8c9-d2be-4382-ec7b-60fc110f2817"
      },
      "source": [
        "X.shape\n"
      ],
      "execution_count": null,
      "outputs": [
        {
          "output_type": "execute_result",
          "data": {
            "text/plain": [
              "(392, 1)"
            ]
          },
          "metadata": {
            "tags": []
          },
          "execution_count": 25
        }
      ]
    },
    {
      "cell_type": "code",
      "metadata": {
        "colab": {
          "base_uri": "https://localhost:8080/"
        },
        "id": "4fG3BLvfe-xf",
        "outputId": "7a2bad7d-966d-464c-b468-ce2460d0291c"
      },
      "source": [
        "type(X)"
      ],
      "execution_count": null,
      "outputs": [
        {
          "output_type": "execute_result",
          "data": {
            "text/plain": [
              "numpy.ndarray"
            ]
          },
          "metadata": {
            "tags": []
          },
          "execution_count": 26
        }
      ]
    },
    {
      "cell_type": "markdown",
      "metadata": {
        "id": "D5cxRIgIeSfD"
      },
      "source": [
        "# What did we just do?\n",
        "1. Originally, X is a dataframe = df['horsepower']\n",
        "2. Then, we extract the values of X using X.values and then assign it back to X. This made X into a one-dimension array of 1 row only.\n",
        "3. Then, we need to reshape it to an array of n rows by m columns using reshape. Dimension of X is now 392x1.\n",
        "4. X is now a 392x1 array.\n",
        "\n",
        "# Why do it?\n",
        "1. Although sklearn \"train-test-split\" takes inputs such as np array, pd df etc., when the input X consists of just one feature like the case above, this module only accepts X in a nxm format. \n",
        "2. Therefore, we MUST change X from a dataframe to a 1-D array, then reshape it into a nxm array before pumping into the \"train-test-split\" module."
      ]
    },
    {
      "cell_type": "markdown",
      "metadata": {
        "id": "S85HENa-5yNf"
      },
      "source": [
        "## Part 2: Train Test Split"
      ]
    },
    {
      "cell_type": "code",
      "metadata": {
        "id": "whDlwx95qvWD"
      },
      "source": [
        "# Train, Test Split the data\n",
        "# By default the data will be split into 0.75: 0.25\n",
        "X_train, X_test, y_train, y_test = train_test_split(X, y, test_size=0.3, random_state = 10)"
      ],
      "execution_count": null,
      "outputs": []
    },
    {
      "cell_type": "markdown",
      "metadata": {
        "id": "4CQj6jl16dxF"
      },
      "source": [
        "## Part 3: Fit your Model"
      ]
    },
    {
      "cell_type": "markdown",
      "metadata": {
        "id": "AJS-RsMw6lU1"
      },
      "source": [
        "## Linear Regression\n",
        " We will do a simple Linear Regression fit and compute the MSE score"
      ]
    },
    {
      "cell_type": "code",
      "metadata": {
        "id": "cKpEo6cQq-Ts",
        "colab": {
          "base_uri": "https://localhost:8080/"
        },
        "outputId": "1bffc9d6-9b4d-4520-f2b0-a9be91846d18"
      },
      "source": [
        "# Fit a Linear Regression and print out the intercept and coefficient\n",
        "# Also print out the MSE, RMSE, R2 score on the test set\n",
        "\n",
        "my_LR = LinearRegression()\n",
        "my_LR.fit(X_train, y_train)\n",
        "\n",
        "print(\"Result of Linear regression\\n\")\n",
        "print(\"Intercept = {}\\n\".format(my_LR.intercept_))\n",
        "print(\"Coefficients = {}\\n\".format(my_LR.coef_))\n",
        "\n",
        "y_predict = my_LR.predict(X_test)\n",
        "\n",
        "MSE_test = mean_squared_error(y_test, y_predict)\n",
        "RMSE_test = np.sqrt(MSE_test)\n",
        "\n",
        "R2_score = my_LR.score(X_test, y_test)\n",
        "\n",
        "print(\"MSE on the test set: {:.3f}\".format(MSE_test))\n",
        "print(\"RMSE on the test set: {:.3f}\".format(RMSE_test))\n",
        "print(\"R2 score on the test set: {:.3f}\".format(R2_score))\n",
        "\n"
      ],
      "execution_count": null,
      "outputs": [
        {
          "output_type": "stream",
          "text": [
            "Result of Linear regression\n",
            "\n",
            "Intercept = 40.61286169928138\n",
            "\n",
            "Coefficients = [-0.16090075]\n",
            "\n",
            "MSE on the test set: 22.892\n",
            "RMSE on the test set: 4.785\n",
            "R2 score on the test set: 0.596\n"
          ],
          "name": "stdout"
        }
      ]
    },
    {
      "cell_type": "markdown",
      "metadata": {
        "id": "NE1jotBM7wuV"
      },
      "source": [
        "## We will now do another evaluation on the MSE score by using LeaveOneOut and KFold Cross Validation\n",
        "\n",
        "We will compute for Leave One Out"
      ]
    },
    {
      "cell_type": "code",
      "metadata": {
        "id": "kNZGgox18ER8",
        "colab": {
          "base_uri": "https://localhost:8080/"
        },
        "outputId": "35bc76d2-59f6-48b0-bd6f-dc44f8856076"
      },
      "source": [
        "# For loocv, first determine the number of training data we have\n",
        "from sklearn.model_selection import LeaveOneOut\n",
        "\n",
        "cv = LeaveOneOut()\n",
        "MSE_LOOCV = cross_val_score(my_LR, X_train, y_train, scoring = \"neg_mean_squared_error\", cv = cv, n_jobs = 1)\n",
        "\n",
        "print(\"LOOCV MSE score: {:.3f}\".format(np.mean(np.abs(MSE_LOOCV))))\n",
        "\n"
      ],
      "execution_count": null,
      "outputs": [
        {
          "output_type": "stream",
          "text": [
            "LOOCV MSE score: 25.047\n"
          ],
          "name": "stdout"
        }
      ]
    },
    {
      "cell_type": "code",
      "metadata": {
        "colab": {
          "base_uri": "https://localhost:8080/"
        },
        "id": "6e3NWBsWiPLV",
        "outputId": "18d9d9df-9e10-43d6-d5f3-c0a2ce8f6684"
      },
      "source": [
        "#MSE_LOOCV is an array of length 274. Each value is the result of one cv computation. \n",
        "# Hence, the overall MSE score should be the average of the entire array (absolute values)\n",
        "print(MSE_LOOCV.shape)\n",
        "print(type(MSE_LOOCV))"
      ],
      "execution_count": null,
      "outputs": [
        {
          "output_type": "stream",
          "text": [
            "(274,)\n",
            "<class 'numpy.ndarray'>\n"
          ],
          "name": "stdout"
        }
      ]
    },
    {
      "cell_type": "code",
      "metadata": {
        "id": "2WrExJtT9sXI",
        "colab": {
          "base_uri": "https://localhost:8080/"
        },
        "outputId": "28bf28be-b175-4137-941c-03f34984a71e"
      },
      "source": [
        "# Now print out the KFold score for KFold = 5\n",
        "cv = KFold(n_splits=5, random_state=1, shuffle=True)\n",
        "MSE_KFold = cross_val_score(my_LR, X_train, y_train, scoring = \"neg_mean_squared_error\", cv = cv, n_jobs = 1)\n",
        "\n",
        "print(\"KFold MSE score: {:.3f}\".format(np.mean(np.abs(MSE_KFold))))\n",
        "\n",
        "\n"
      ],
      "execution_count": null,
      "outputs": [
        {
          "output_type": "stream",
          "text": [
            "KFold MSE score: 25.070\n"
          ],
          "name": "stdout"
        }
      ]
    },
    {
      "cell_type": "markdown",
      "metadata": {
        "id": "86DimmwJ90f3"
      },
      "source": [
        "## Part 4: Evaluate your model\n",
        "\n",
        "Now compare the MSE value, the loocv score and KFold score for 5 folds all using simple LR model.\n",
        "\n",
        "What is your comments?\n",
        "1. Simple LR MSE = 22.9\n",
        "2. LOOCV MSE = 25.05\n",
        "3. KFold@5 MSE = 25.08\n",
        "\n",
        "Simple LR has the best performance for now.\n",
        "\n",
        "\n"
      ]
    },
    {
      "cell_type": "markdown",
      "metadata": {
        "id": "2t_Q8NZR-FRX"
      },
      "source": [
        "# Exercise: Let's try out polynomial regression and apply KFold to the model.\n",
        "\n",
        "Besides MSE, KFold offers another way for us to evaluate our model.\n",
        "\n",
        "We will now re-evaluate our result by choosing another model - Polynomial regression (order 2)"
      ]
    },
    {
      "cell_type": "code",
      "metadata": {
        "id": "H2LLMYGj-tiq"
      },
      "source": [
        "# Codes for Fitting a Polynomial Regression Order 2\n",
        "\n",
        "poly = PolynomialFeatures(degree = 2, include_bias = False)\n",
        "# Transform X_train and X_test\n",
        "X_train_poly = poly.fit_transform(X_train)\n",
        "X_test_poly = poly.fit_transform(X_test)\n",
        "\n",
        "# You may want to print out X_train_poly to confirm that we now have 2 columns\n"
      ],
      "execution_count": null,
      "outputs": []
    },
    {
      "cell_type": "code",
      "metadata": {
        "id": "LImX5b58_2TD"
      },
      "source": [
        "# Define a LinearRegression model\n",
        "my_model = LinearRegression()\n",
        "  \n",
        "# Train the model\n",
        "my_model.fit(X_train_poly, y_train)\n",
        "\n",
        "y_predict = my_model.predict(X_test_poly)\n",
        "\n",
        "MSE_score = mean_squared_error(y_test, y_predict)"
      ],
      "execution_count": null,
      "outputs": []
    },
    {
      "cell_type": "code",
      "metadata": {
        "id": "QPUPlB3Q_E8E",
        "colab": {
          "base_uri": "https://localhost:8080/"
        },
        "outputId": "c36bf4ed-159a-458f-838d-d587b91f126d"
      },
      "source": [
        "# We will now write codes for KFold with 5 folds\n",
        "MSE_KFold_poly = cross_val_score(my_model, X_train_poly, y_train, scoring = \"neg_mean_squared_error\", cv = cv , n_jobs = 1)\n",
        "\n",
        "MSE_KFold_poly_score = np.mean(np.abs(MSE_KFold_poly)) \n",
        "print(MSE_KFold_poly_score)\n"
      ],
      "execution_count": null,
      "outputs": [
        {
          "output_type": "stream",
          "text": [
            "21.015913603295616\n"
          ],
          "name": "stdout"
        }
      ]
    },
    {
      "cell_type": "markdown",
      "metadata": {
        "id": "aKGynqujAgtp"
      },
      "source": [
        "## Again compare the 2 results. \n",
        "\n",
        "What is your comments?\n",
        "\n",
        "KFold@5 MSE using Polynomial Regression (order=2) = 21.05 <- Best result so far."
      ]
    },
    {
      "cell_type": "markdown",
      "metadata": {
        "id": "RdmslhRkApfZ"
      },
      "source": [
        "## Part 5: Optimise your model"
      ]
    },
    {
      "cell_type": "markdown",
      "metadata": {
        "id": "wgHOHltyAKfp"
      },
      "source": [
        "* We will now run the model for order 1 to 20\n",
        "* We will compute both the MSE score as well as the KFold (5 folds) cross validation score\n",
        "* We will plot a graph and determine which order will give the best score and choose our model for deployment"
      ]
    },
    {
      "cell_type": "code",
      "metadata": {
        "id": "B_TWYK5RB2L1"
      },
      "source": [
        "# Setup arrays for storing our result. We have MSE_score and MSE_KFold_score to score\n",
        "MSE_score = []\n",
        "MSE_KFold_score = []\n",
        "my_model = LinearRegression()\n",
        "\n",
        "# We will also create n_array to store or polynomial order (for later plotting)\n",
        "start = 1\n",
        "stop =  7\n",
        "n_array = np.linspace(start, stop, num=(stop-start+1), endpoint=True, dtype = int)\n"
      ],
      "execution_count": null,
      "outputs": []
    },
    {
      "cell_type": "code",
      "metadata": {
        "id": "ZoiF2PVUCZkq"
      },
      "source": [
        "# Now run a for loop to obtain MSE results for different polynomial orders\n",
        "\n",
        "for n in n_array:\n",
        "  poly = PolynomialFeatures(degree = n , include_bias = False)\n",
        "  # Transform X_train and X_test\n",
        "  X_train_poly = poly.fit_transform(X_train)\n",
        "  X_test_poly = poly.fit_transform(X_test) \n",
        "\n",
        "  # Train the model\n",
        "  my_model.fit(X_train_poly, y_train)\n",
        "\n",
        "  # Compute MSE score\n",
        "  y_predict = my_model.predict(X_test_poly)\n",
        "  MSE_my_model = mean_squared_error(y_test, y_predict)\n",
        "  MSE_score.append(MSE_my_model)\n",
        "\n",
        "  # Compute MSE KFold CV Score\n",
        "  MSE_KFold = cross_val_score(my_model, X_train_poly, y_train, scoring = \"neg_mean_squared_error\", cv = cv , n_jobs = 1)\n",
        "  MSE_KFold_score.append(np.mean(np.abs(MSE_KFold)))\n"
      ],
      "execution_count": null,
      "outputs": []
    },
    {
      "cell_type": "markdown",
      "metadata": {
        "id": "68DIGnoZDmzw"
      },
      "source": [
        "## Plot the results\n",
        "\n",
        "We will plot it without fancy. You can touch up if you want to."
      ]
    },
    {
      "cell_type": "code",
      "metadata": {
        "id": "KUfUu66mDtKO",
        "colab": {
          "base_uri": "https://localhost:8080/",
          "height": 295
        },
        "outputId": "f448fd52-2919-47a9-db15-a42b6e39eca2"
      },
      "source": [
        "import matplotlib.pyplot as plt\n",
        "MSE_arr = np.array(MSE_score)\n",
        "MSE_KFold_arr = np.array(MSE_KFold_score)\n",
        "\n",
        "plt.plot(n_array, MSE_arr, label=\"Polynomial LR vanilla\")\n",
        "plt.plot(n_array, MSE_KFold_arr, 'r', label=\"Polynomial CV @ n_splits=5\")\n",
        "plt.title(\"Polynomial Vanilla vs CV\")\n",
        "plt.xlabel(\"Polynomial order\")\n",
        "plt.ylabel(\"MSE Scores\")\n",
        "plt.legend()\n",
        "plt.show()"
      ],
      "execution_count": null,
      "outputs": [
        {
          "output_type": "display_data",
          "data": {
            "image/png": "[encoded data removed]",
            "text/plain": [
              "<Figure size 432x288 with 1 Axes>"
            ]
          },
          "metadata": {
            "tags": [],
            "needs_background": "light"
          }
        }
      ]
    },
    {
      "cell_type": "markdown",
      "metadata": {
        "id": "rAJBl9OvETFc"
      },
      "source": [
        "## Which order will you choose?\n",
        "\n",
        "* Will you choose the order with the least MSE_score or MSE_KFold_score?\n",
        "\n",
        "Ans: Both MSE curves show a dip at order = 2 and order = 11\n",
        "\n",
        "* If you are to compromise, what will be your justifications?\n",
        "\n",
        "Ans: Since the MSE scores do not differ too much at both orders, I will select order = 2 polynonmail (no CV) to reduce model complexity.\n"
      ]
    },
    {
      "cell_type": "markdown",
      "metadata": {
        "id": "vcyUJv-vMo3b"
      },
      "source": [
        "## More reading\n",
        "\n",
        "[different options for scoring](https://scikit-learn.org/stable/modules/model_evaluation.html#scoring-parameter)\n",
        "\n",
        "[cross_val_score](https://scikit-learn.org/stable/modules/generated/sklearn.model_selection.cross_val_score.html?highlight=cross_val_score#sklearn.model_selection.cross_val_score)"
      ]
    },
    {
      "cell_type": "code",
      "metadata": {
        "id": "2kJuKwyUpguY"
      },
      "source": [
        "def get_MSE_Poly(X_train, X_test, y_train, y_test, order):\n",
        "  # Input:\n",
        "  #       - X_train, X_test, y_train, y_test\n",
        "  #       - order: order of polynomial regression\n",
        "\n",
        "  # Define PolynomialFeatures() \n",
        "  poly = PolynomialFeatures(degree = order, include_bias = False)\n",
        "\n",
        "  # Transform X_train and X_test\n",
        "  X_train_poly = poly.fit_transform(X_train)\n",
        "  X_test_poly = poly.fit_transform(X_test)\n",
        "\n",
        "  # Define a LinearRegression model\n",
        "  my_model = LinearRegression()\n",
        "  \n",
        "  # Train the model\n",
        "  my_model.fit(X_train_poly, y_train)\n",
        "  \n",
        "  # Calculate the MSE on the test set\n",
        "  return (mean_squared_error(y_test, my_model.predict(X_test_poly)))"
      ],
      "execution_count": null,
      "outputs": []
    },
    {
      "cell_type": "markdown",
      "metadata": {
        "id": "a3gpktPppwxG"
      },
      "source": [
        "# Have an array of polynomial orders and random states.\n",
        "\n",
        "Declare an matrix to store results. Suppose you want to test with  20  random states, i.e.,  20  different splits, and you want to check  10  orders from  1  to  10 . The result matrix has the size of  20×10 ."
      ]
    },
    {
      "cell_type": "code",
      "metadata": {
        "id": "NwNNcf8Up1wj"
      },
      "source": [
        "order_array = np.linspace(1, 10, 11, endpoint=True, dtype = int)\n",
        "random_state_array = np.linspace(1, 20, 21, endpoint=True, dtype=int)\n",
        "\n",
        "result_mat = np.zeros((random_state_array.size, order_array.size))\n",
        "\n"
      ],
      "execution_count": null,
      "outputs": []
    },
    {
      "cell_type": "markdown",
      "metadata": {
        "id": "flR-LZaMp9J5"
      },
      "source": [
        "# Have two for loops nested togerther. The outer one is for random_state and the inner one is for the order."
      ]
    },
    {
      "cell_type": "code",
      "metadata": {
        "id": "QH05GgyDp2g9"
      },
      "source": [
        "for i in range(0, random_state_array.size):\n",
        "  for j in  range(0, order_array.size):\n",
        "    random_state = i\n",
        "    order = j+1\n",
        "\n",
        "    # Split the data \n",
        "    X_train, X_test, y_train, y_test = train_test_split(X, y, random_state = random_state)\n",
        "    \n",
        "    result_mat[i, j] = get_MSE_Poly(X_train, X_test, y_train, y_test, order)  \n",
        "    #get_MSE_Poly(X_train, X_test, y_train, y_test, order)"
      ],
      "execution_count": null,
      "outputs": []
    },
    {
      "cell_type": "markdown",
      "metadata": {
        "id": "wYEyBX2HqB_9"
      },
      "source": [
        "# Plot the result"
      ]
    },
    {
      "cell_type": "code",
      "metadata": {
        "colab": {
          "base_uri": "https://localhost:8080/",
          "height": 279
        },
        "id": "bZ0Lsv3dp-xj",
        "outputId": "145301cc-6b62-4fb9-f52d-4c1a85e87f51"
      },
      "source": [
        "plt.plot(order_array, result_mat.T, '-o')\n",
        "\n",
        "plt.xlabel('Polynomial order')\n",
        "plt.ylabel('MSE (Test set)')\n",
        "plt.grid()\n",
        "plt.show()"
      ],
      "execution_count": null,
      "outputs": [
        {
          "output_type": "display_data",
          "data": {
            "image/png": "[encoded data removed]",
            "text/plain": [
              "<Figure size 432x288 with 1 Axes>"
            ]
          },
          "metadata": {
            "tags": [],
            "needs_background": "light"
          }
        }
      ]
    },
    {
      "cell_type": "code",
      "metadata": {
        "colab": {
          "base_uri": "https://localhost:8080/"
        },
        "id": "e3O_RPo-tUkC",
        "outputId": "c499745f-f0ec-489c-e86a-770f458c78d1"
      },
      "source": [
        "print(result_mat.T) #Graph shows polynomial order=4 has the lowest MSE"
      ],
      "execution_count": null,
      "outputs": [
        {
          "output_type": "stream",
          "text": [
            "[[22.50134465 28.8160267  22.64246971 24.37078287 24.3063052  32.06587371\n",
            "  22.59688087 18.29277681 22.76322362 22.20809161 23.89939507 26.26020546\n",
            "  28.20503115 26.70213054 29.49845585 29.21387394 29.13876085 26.22545415\n",
            "  23.17573263 21.58800493 26.37782835]\n",
            " [16.23477565 21.87713663 17.97094617 18.02613092 19.97487671 26.29648979\n",
            "  16.22612412 13.82435081 17.09794302 16.10607649 17.78033789 21.63350984\n",
            "  19.95934918 22.6811541  20.86698636 22.51791654 23.69352238 20.52997124\n",
            "  15.31622669 15.29629488 16.48556836]\n",
            " [16.16721169 21.88075223 17.85720359 17.94883718 19.88331466 26.19329005\n",
            "  16.2089401  13.96572511 17.06112021 16.03623696 17.86037656 21.71382064\n",
            "  19.943462   22.63222333 20.77822471 22.44599115 23.61566749 20.46861907\n",
            "  15.34305212 15.20285696 16.57425914]\n",
            " [16.08773842 21.74229686 18.05901395 18.06438895 20.48049202 26.5697028\n",
            "  16.84250055 14.04991116 17.62607822 15.90607087 18.03783563 21.61546471\n",
            "  19.97139927 22.48671012 20.62963085 22.32392932 24.31543492 20.32745322\n",
            "  15.2487228  15.67992509 17.51242374]\n",
            " [15.9404179  21.69075078 17.88176241 17.76058914 21.20605219 26.05162851\n",
            "  16.10716336 13.55144136 19.13963914 15.09601827 17.74596695 21.41267016\n",
            "  19.74870952 21.45054002 19.77950996 21.73797761 25.08992202 19.37436962\n",
            "  14.24212299 15.4866696  17.34013911]\n",
            " [15.75204783 21.50964279 18.05244714 17.77887059 21.47991177 25.59531883\n",
            "  15.96573795 14.33337936 21.0973525  14.74479028 17.92079142 21.62875961\n",
            "  19.41109741 21.02794716 19.74546046 22.28466973 25.61411915 18.93481641\n",
            "  13.86651845 15.29456597 17.56596813]\n",
            " [15.87812811 21.47748028 17.95442137 18.37205925 21.23146655 25.93841811\n",
            "  16.3385236  14.22250628 19.65188441 15.04208687 17.94967165 21.70695203\n",
            "  19.7346577  21.41691426 20.01811966 21.84537562 25.1906669  19.32859636\n",
            "  14.36009747 15.33044729 17.56105329]\n",
            " [15.96708345 21.65865279 17.87743801 18.50304279 20.81877976 26.27428536\n",
            "  16.53674928 14.06662018 18.26848624 15.36521073 17.84308301 21.52493012\n",
            "  19.87316043 21.87734348 20.13629603 21.82928134 24.50084925 19.70145836\n",
            "  14.66162692 15.34369378 17.18471763]\n",
            " [15.96449904 21.69094521 17.72892662 18.16826244 20.37365684 26.19291662\n",
            "  16.31782103 13.77105143 17.38056877 15.4000347  17.55051641 21.50261576\n",
            "  19.70354995 21.90384625 20.14397625 21.95223633 23.93505428 19.76468125\n",
            "  14.60405239 15.21608668 16.60559447]\n",
            " [15.96274177 21.55041647 17.6596546  17.70828305 20.1312259  25.92191479\n",
            "  15.93449918 13.75028791 17.19104012 15.13731481 17.38582227 21.64866302\n",
            "  19.43991965 21.4151095  20.11854496 21.91256854 23.66765116 19.53732289\n",
            "  14.59603102 15.09071848 16.28292166]\n",
            " [16.18929892 21.47867739 17.80911212 18.16657243 20.38142508 26.04458746\n",
            "  16.46399907 15.04488847 17.66445888 15.03826626 17.81900698 21.87372774\n",
            "  19.70719776 20.90080956 20.67783641 21.82529412 24.01572864 19.44905011\n",
            "  16.01632217 15.36930909 17.66182839]]\n"
          ],
          "name": "stdout"
        }
      ]
    },
    {
      "cell_type": "markdown",
      "metadata": {
        "id": "JHseN99aqG1g"
      },
      "source": [
        "# Leave-One-Out Cross-Validation\n",
        "We wil use KFold() here to perform LOOCV."
      ]
    },
    {
      "cell_type": "code",
      "metadata": {
        "colab": {
          "base_uri": "https://localhost:8080/"
        },
        "id": "GwToVIjVqIy4",
        "outputId": "310a7657-d8cc-47da-8423-e09e9f431138"
      },
      "source": [
        "X_train = X.reshape(-1,1)\n",
        "#y_train = y.reshape(-1,1)\n",
        "n = y_train.size\n",
        "print('n = ', n)"
      ],
      "execution_count": null,
      "outputs": [
        {
          "output_type": "stream",
          "text": [
            "n =  294\n"
          ],
          "name": "stdout"
        }
      ]
    },
    {
      "cell_type": "code",
      "metadata": {
        "colab": {
          "base_uri": "https://localhost:8080/"
        },
        "id": "3vPxRz0VqP8J",
        "outputId": "5fd8fcbd-a86d-426c-bb67-6a382ded32cc"
      },
      "source": [
        "loocv = KFold(n_splits = n)\n",
        "loocv.get_n_splits(X_train)"
      ],
      "execution_count": null,
      "outputs": [
        {
          "output_type": "execute_result",
          "data": {
            "text/plain": [
              "294"
            ]
          },
          "metadata": {
            "tags": []
          },
          "execution_count": 52
        }
      ]
    },
    {
      "cell_type": "markdown",
      "metadata": {
        "id": "fUFuWlXsqZpz"
      },
      "source": [
        "# loocv has a function loocv.split(X_train) which generates indices of train sets and test sets (for each split)italicized text"
      ]
    },
    {
      "cell_type": "code",
      "metadata": {
        "colab": {
          "base_uri": "https://localhost:8080/"
        },
        "id": "JFR8_phQqQhi",
        "outputId": "20ff61d5-d3a6-481e-f6e7-faf52c36aad1"
      },
      "source": [
        "print('Type of kf.split(X_train): ', type(loocv.split(X_train)))"
      ],
      "execution_count": null,
      "outputs": [
        {
          "output_type": "stream",
          "text": [
            "Type of kf.split(X_train):  <class 'generator'>\n"
          ],
          "name": "stdout"
        }
      ]
    },
    {
      "cell_type": "markdown",
      "metadata": {
        "id": "8PXPnHzhqeZl"
      },
      "source": [
        "# You now know a new type: generator. To get an item in this generator, use next().\n",
        "\n",
        "The first item has indices of training samples. The second item has index of the test sample."
      ]
    },
    {
      "cell_type": "code",
      "metadata": {
        "colab": {
          "base_uri": "https://localhost:8080/"
        },
        "id": "wom4SQdlqTZK",
        "outputId": "b1a723ff-e9f1-4c65-b3f1-c27c4199ee13"
      },
      "source": [
        "print(next(loocv.split(X_train)))"
      ],
      "execution_count": null,
      "outputs": [
        {
          "output_type": "stream",
          "text": [
            "(array([  2,   3,   4,   5,   6,   7,   8,   9,  10,  11,  12,  13,  14,\n",
            "        15,  16,  17,  18,  19,  20,  21,  22,  23,  24,  25,  26,  27,\n",
            "        28,  29,  30,  31,  32,  33,  34,  35,  36,  37,  38,  39,  40,\n",
            "        41,  42,  43,  44,  45,  46,  47,  48,  49,  50,  51,  52,  53,\n",
            "        54,  55,  56,  57,  58,  59,  60,  61,  62,  63,  64,  65,  66,\n",
            "        67,  68,  69,  70,  71,  72,  73,  74,  75,  76,  77,  78,  79,\n",
            "        80,  81,  82,  83,  84,  85,  86,  87,  88,  89,  90,  91,  92,\n",
            "        93,  94,  95,  96,  97,  98,  99, 100, 101, 102, 103, 104, 105,\n",
            "       106, 107, 108, 109, 110, 111, 112, 113, 114, 115, 116, 117, 118,\n",
            "       119, 120, 121, 122, 123, 124, 125, 126, 127, 128, 129, 130, 131,\n",
            "       132, 133, 134, 135, 136, 137, 138, 139, 140, 141, 142, 143, 144,\n",
            "       145, 146, 147, 148, 149, 150, 151, 152, 153, 154, 155, 156, 157,\n",
            "       158, 159, 160, 161, 162, 163, 164, 165, 166, 167, 168, 169, 170,\n",
            "       171, 172, 173, 174, 175, 176, 177, 178, 179, 180, 181, 182, 183,\n",
            "       184, 185, 186, 187, 188, 189, 190, 191, 192, 193, 194, 195, 196,\n",
            "       197, 198, 199, 200, 201, 202, 203, 204, 205, 206, 207, 208, 209,\n",
            "       210, 211, 212, 213, 214, 215, 216, 217, 218, 219, 220, 221, 222,\n",
            "       223, 224, 225, 226, 227, 228, 229, 230, 231, 232, 233, 234, 235,\n",
            "       236, 237, 238, 239, 240, 241, 242, 243, 244, 245, 246, 247, 248,\n",
            "       249, 250, 251, 252, 253, 254, 255, 256, 257, 258, 259, 260, 261,\n",
            "       262, 263, 264, 265, 266, 267, 268, 269, 270, 271, 272, 273, 274,\n",
            "       275, 276, 277, 278, 279, 280, 281, 282, 283, 284, 285, 286, 287,\n",
            "       288, 289, 290, 291, 292, 293, 294, 295, 296, 297, 298, 299, 300,\n",
            "       301, 302, 303, 304, 305, 306, 307, 308, 309, 310, 311, 312, 313,\n",
            "       314, 315, 316, 317, 318, 319, 320, 321, 322, 323, 324, 325, 326,\n",
            "       327, 328, 329, 330, 331, 332, 333, 334, 335, 336, 337, 338, 339,\n",
            "       340, 341, 342, 343, 344, 345, 346, 347, 348, 349, 350, 351, 352,\n",
            "       353, 354, 355, 356, 357, 358, 359, 360, 361, 362, 363, 364, 365,\n",
            "       366, 367, 368, 369, 370, 371, 372, 373, 374, 375, 376, 377, 378,\n",
            "       379, 380, 381, 382, 383, 384, 385, 386, 387, 388, 389, 390, 391]), array([0, 1]))\n"
          ],
          "name": "stdout"
        }
      ]
    }
  ]
}